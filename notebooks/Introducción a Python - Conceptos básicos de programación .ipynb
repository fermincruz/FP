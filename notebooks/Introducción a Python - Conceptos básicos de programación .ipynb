{
 "cells": [
  {
   "cell_type": "markdown",
   "metadata": {},
   "source": [
    "# Una introducción a Python: Conceptos básicos de programación"
   ]
  },
  {
   "cell_type": "markdown",
   "metadata": {},
   "source": [
    "Este documento está pensado para que comiences a comprender los programas escritos en el lenguaje Python, y a escribir tus primeros programas. No tienes que tener ningún conocimiento previo para entenderlo, aunque algunos de los conceptos son un poco abstractos, por lo que es posible que tengas que leer las explicaciones varias veces, y despacito... No pretendemos profundizar en ninguno de los contenidos que aquí se presentan, sino más bien dar un primer vistazo a lo que te puedes encontrar en un programa escrito en Python. Más adelante, iremos profundizando en cada uno de estos contenidos. \n",
    "\n",
    "\n",
    "Los apartados marcados con el título **¡Prueba tú!** están pensados para que escribas pequeños trocitos de código\\*, de manera que compruebes si has comprendido lo que se te acaba de explicar. Es importante que no continúes leyendo hasta que no hayas resuelto lo que se te va pidiendo. Si no consigues resolver alguno de estos apartados, ya sabes: **pide ayuda a tu profesor**.\n",
    "\n",
    "\\* Cuando hablamos de \"código\" nos referimos a un trozo de texto sacado de un programa informático. En inglés, es frecuente usar el término **coding** para referirse al acto de escribir programas informáticos. Por cierto, ¿qué tal andas de inglés? Verás que gran parte de la información que hay que consultar para programar está en inglés, así que es mejor que te vayas acostumbrando...\n",
    "\n",
    "### ¿Empezamos?"
   ]
  },
  {
   "cell_type": "markdown",
   "metadata": {},
   "source": [
    "## Instrucciones y funciones"
   ]
  },
  {
   "cell_type": "markdown",
   "metadata": {
    "nbpresent": {
     "id": "71219fc3-c9cb-4700-9f0b-ab38b1b223da"
    },
    "slideshow": {
     "slide_type": "-"
    }
   },
   "source": [
    "Un programa Python está formado por **instrucciones** (a veces también son llamadas **sentencias**). Cada instrucción se escribe normalmente en una linea. Por ejemplo, la siguiente instrucción sirve para imprimir el mensaje \"Hola, mundo!\" en la pantalla.\n",
    "\n",
    "Para ejecutar la instrucción, haz click sobre la celda de abajo y luego pulsa el icono de \"play\" (también puedes pulsar las teclas \"Mayúsculas+Entrar\")."
   ]
  },
  {
   "cell_type": "code",
   "execution_count": 72,
   "metadata": {
    "collapsed": false,
    "nbpresent": {
     "id": "ae8725fa-30f7-4d7f-a2c2-5f86953d730b"
    }
   },
   "outputs": [
    {
     "name": "stdout",
     "output_type": "stream",
     "text": [
      "Hola, mundo!\n"
     ]
    }
   ],
   "source": [
    "print(\"Hola, mundo!\")"
   ]
  },
  {
   "cell_type": "markdown",
   "metadata": {
    "nbpresent": {
     "id": "86423d42-e808-47e6-b1a7-e925e195f821"
    }
   },
   "source": [
    "Si en un programa hay varias instrucciones, estas se ejecutan secuencialmente, una tras otra."
   ]
  },
  {
   "cell_type": "code",
   "execution_count": 73,
   "metadata": {
    "collapsed": false,
    "nbpresent": {
     "id": "d0569bb0-fad8-48b7-8d48-0066bfb90401"
    }
   },
   "outputs": [
    {
     "name": "stdout",
     "output_type": "stream",
     "text": [
      "Hola, mundo!\n",
      "Adios, mundo!\n"
     ]
    }
   ],
   "source": [
    "print(\"Hola, mundo!\")\n",
    "print(\"Adios, mundo!\")"
   ]
  },
  {
   "cell_type": "markdown",
   "metadata": {
    "nbpresent": {
     "id": "7adaaf8f-a83e-456b-b99a-d3b3d4cb6d1a"
    }
   },
   "source": [
    "La instrucción que hemos usado en los ejemplos anteriores, **print** (que significa imprimir en inglés), es una **función predefinida** (*built-in function*). Una función puede ser \"llamada\" (también se dice \"invocada\") desde un programa escribiendo su nombre y a continuación unos paréntesis de apertura y cierre. En ocasiones, las funciones reciben **parámetros**, que se escriben en la llamada dentro de los paréntesis, separados por comas si hay más de uno."
   ]
  },
  {
   "cell_type": "markdown",
   "metadata": {},
   "source": [
    "### ¡Prueba tú!"
   ]
  },
  {
   "cell_type": "code",
   "execution_count": 74,
   "metadata": {
    "collapsed": true
   },
   "outputs": [],
   "source": [
    "# Escribe una llamada a la función print para mostrar algún mensaje en pantalla.\n",
    "\n",
    "\n"
   ]
  },
  {
   "cell_type": "markdown",
   "metadata": {},
   "source": [
    "Hay muchas funciones predefinidas, por ejemplo la función **help** nos proporciona ayuda sobre cualquier otra función. "
   ]
  },
  {
   "cell_type": "code",
   "execution_count": 75,
   "metadata": {
    "collapsed": false,
    "nbpresent": {
     "id": "998dc7f5-ab6d-4fb8-866f-4fa96a06aaaa"
    }
   },
   "outputs": [
    {
     "name": "stdout",
     "output_type": "stream",
     "text": [
      "Help on built-in function print in module builtins:\n",
      "\n",
      "print(...)\n",
      "    print(value, ..., sep=' ', end='\\n', file=sys.stdout, flush=False)\n",
      "    \n",
      "    Prints the values to a stream, or to sys.stdout by default.\n",
      "    Optional keyword arguments:\n",
      "    file:  a file-like object (stream); defaults to the current sys.stdout.\n",
      "    sep:   string inserted between values, default a space.\n",
      "    end:   string appended after the last value, default a newline.\n",
      "    flush: whether to forcibly flush the stream.\n",
      "\n"
     ]
    }
   ],
   "source": [
    "help(print)   # Nos muestra información de ayuda sobre la función predefinida print"
   ]
  },
  {
   "cell_type": "markdown",
   "metadata": {},
   "source": [
    "Por supuesto, la ayuda está en inglés. Habrá que acostumbrarse, porque la inmensa mayoría de documentación y ayudas que vas a encontrar para programar estará también en inglés..."
   ]
  },
  {
   "cell_type": "markdown",
   "metadata": {},
   "source": [
    "### ¡Prueba tú!"
   ]
  },
  {
   "cell_type": "code",
   "execution_count": 76,
   "metadata": {
    "collapsed": true
   },
   "outputs": [],
   "source": [
    "# Haz que se muestre la ayuda disponible sobre la propia función help\n",
    "\n",
    "\n"
   ]
  },
  {
   "cell_type": "markdown",
   "metadata": {
    "nbpresent": {
     "id": "829150e0-712b-4739-92d6-37b9c3d789cb"
    }
   },
   "source": [
    "En el ejemplo anterior hemos usado el carácter almohadilla (#) para escribir un **comentario** sobre el código. Los comentarios se usan en los programas para hacer aclaraciones, explicar el funcionamiento y, en general, hacer más fácil de entender nuestros programas. \n",
    "\n",
    "Las funciones anteriores se llaman funciones predefinidas porque ya vienen incluidas \"por defecto\" en Python. Por contra, los programadores pueden **definir** sus propias **funciones**, como se muestra a continuación."
   ]
  },
  {
   "cell_type": "code",
   "execution_count": 77,
   "metadata": {
    "collapsed": true,
    "nbpresent": {
     "id": "8dce188c-36b7-41fa-9020-b5cb5502e452"
    }
   },
   "outputs": [],
   "source": [
    "def saluda(nombre):\n",
    "    ''' \n",
    "    Esta función imprime un saludo personalizado con el nombre indicado mediante el parámetro \"nombre\".\n",
    "    '''\n",
    "    print(\"Hola, \" + nombre)"
   ]
  },
  {
   "cell_type": "markdown",
   "metadata": {
    "nbpresent": {
     "id": "35a148d4-f201-4441-bf5e-8a07f93dea84"
    }
   },
   "source": [
    "La función que acabamos de definir se llama *saluda* y recibe un único parámetro. Después de la primera linea (llamada **cabecera** o **prototipo** de la función) vienen una o varias instrucciones (llamadas **cuerpo** de la función), que serán ejecutadas cuando alguien llame a la función. Date cuenta de que las instrucciones que conforman el cuerpo de la función aparecen indentadas, es decir, tienen un tabulador delante. \n",
    "\n",
    "Las primeras líneas del cuerpo de la función, que comienzan y acaban con tres comillas simples, se llaman **comentario de documentación** de la función, y, aunque no son obligatorias, sí es recomendable incluirlas. Cuando alguien llame a la función predefinida *help* para pedir ayuda sobre nuestra función, se mostrará precisamente el texto aquí incluido.\n",
    "\n",
    "Lo que hará la función cuando alguien la llame será mostrar un mensaje de saludo. Hagamos una llamada para probar la función: prueba a escribir tu nombre entre las comillas."
   ]
  },
  {
   "cell_type": "code",
   "execution_count": 78,
   "metadata": {
    "collapsed": false,
    "nbpresent": {
     "id": "85d1ab90-cc65-4935-808b-a6f57ecc892e"
    }
   },
   "outputs": [
    {
     "name": "stdout",
     "output_type": "stream",
     "text": [
      "Hola, Fermín\n"
     ]
    }
   ],
   "source": [
    "saluda(\"Fermín\")"
   ]
  },
  {
   "cell_type": "markdown",
   "metadata": {
    "nbpresent": {
     "id": "d99a804c-9444-418b-bc94-3c2f064e2844"
    }
   },
   "source": [
    "Al definir una función conseguimos reutilizar la funcionalidad implementada las veces que queramos, simplemente llamando a la función en las partes del programa en que necesitemos dicha funcionalidad. Por ejemplo, ahora puedo realizar varios saludos, uno tras otro:"
   ]
  },
  {
   "cell_type": "code",
   "execution_count": 79,
   "metadata": {
    "collapsed": false,
    "nbpresent": {
     "id": "86172e20-fe16-447d-859f-24a81e563011"
    }
   },
   "outputs": [
    {
     "name": "stdout",
     "output_type": "stream",
     "text": [
      "Hola, John\n",
      "Hola, Paul\n",
      "Hola, George\n",
      "Hola, Ringo\n"
     ]
    }
   ],
   "source": [
    "saluda(\"John\")\n",
    "saluda(\"Paul\")\n",
    "saluda(\"George\")\n",
    "saluda(\"Ringo\")"
   ]
  },
  {
   "cell_type": "markdown",
   "metadata": {},
   "source": [
    "### ¡Prueba tú!"
   ]
  },
  {
   "cell_type": "markdown",
   "metadata": {},
   "source": [
    "Define una función llamada *saluda_educado* que reciba un nombre como parámetro, imprima el mismo saludo personalizado que la función saluda, y a continuación imprima el texto \"Encantado de conocerle\".\n",
    "\n",
    "**¡Truco!:** puedes llamar a la función anterior *saluda* desde el cuerpo de la nueva función *saluda_educado*."
   ]
  },
  {
   "cell_type": "code",
   "execution_count": null,
   "metadata": {
    "collapsed": false
   },
   "outputs": [],
   "source": [
    "\n",
    "\n"
   ]
  },
  {
   "cell_type": "markdown",
   "metadata": {},
   "source": [
    "## Expresiones"
   ]
  },
  {
   "cell_type": "markdown",
   "metadata": {
    "nbpresent": {
     "id": "9659b1c1-9aed-4d71-b830-4a60d408ad71"
    }
   },
   "source": [
    "En la instrucción que hemos escrito al definir la función *saluda*:\n",
    "\n",
    "```python\n",
    "print(\"Hola, \" + nombre)\n",
    "```\n",
    "\n",
    "hemos usado un **operador**, el signo +, que sirve para concatenar las dos cadenas de texto: la cadena *\"Hola, \"* y la cadena contenida en el parámetro *nombre*. \n",
    "\n",
    "El uso de operadores es habitual en todos los lenguajes de programación. Llamamos **expresiones** a las instrucciones formadas por operadores (como el +), literales (como la cadena *\"Hola, \"*) y variables (como el parámetro *nombre*) *[bueno, y más participantes que iremos viendo más adelante]*. Una expresión es siempre evaluada por Python, para obtener un resultado, antes de seguir ejecutando el resto de instrucciones del programa. \n",
    "\n",
    "Veamos algunos ejemplos de expresiones utilizando los **operadores aritméticos**. Prueba a cambiar los ejemplos que se muestran para experimentar un poco."
   ]
  },
  {
   "cell_type": "code",
   "execution_count": 80,
   "metadata": {
    "collapsed": false,
    "nbpresent": {
     "id": "5a579720-fa62-4525-85e3-dd049cbd73be"
    }
   },
   "outputs": [
    {
     "data": {
      "text/plain": [
       "8"
      ]
     },
     "execution_count": 80,
     "metadata": {},
     "output_type": "execute_result"
    }
   ],
   "source": [
    "3 + 5"
   ]
  },
  {
   "cell_type": "code",
   "execution_count": 81,
   "metadata": {
    "collapsed": false,
    "nbpresent": {
     "id": "f6847886-4044-43a7-9edd-f18efddcb7a9"
    }
   },
   "outputs": [
    {
     "data": {
      "text/plain": [
       "43"
      ]
     },
     "execution_count": 81,
     "metadata": {},
     "output_type": "execute_result"
    }
   ],
   "source": [
    "3 + 5 * 8"
   ]
  },
  {
   "cell_type": "code",
   "execution_count": 82,
   "metadata": {
    "collapsed": false,
    "nbpresent": {
     "id": "5d433d13-f44a-45bb-91fd-406f60b33b67"
    }
   },
   "outputs": [
    {
     "data": {
      "text/plain": [
       "64"
      ]
     },
     "execution_count": 82,
     "metadata": {},
     "output_type": "execute_result"
    }
   ],
   "source": [
    "(3 + 5) * 8"
   ]
  },
  {
   "cell_type": "code",
   "execution_count": 83,
   "metadata": {
    "collapsed": false
   },
   "outputs": [
    {
     "data": {
      "text/plain": [
       "4.571428571428571"
      ]
     },
     "execution_count": 83,
     "metadata": {},
     "output_type": "execute_result"
    }
   ],
   "source": [
    "(3 + 5) * 8/14"
   ]
  },
  {
   "cell_type": "markdown",
   "metadata": {},
   "source": [
    "### ¡Prueba tú!"
   ]
  },
  {
   "cell_type": "code",
   "execution_count": 84,
   "metadata": {
    "collapsed": true
   },
   "outputs": [],
   "source": [
    "# Escribe alguna expresión usando operadores aritméticos. Además de los anteriores tienes los siguientes:\n",
    "# - // % **\n",
    "\n",
    "\n"
   ]
  },
  {
   "cell_type": "markdown",
   "metadata": {},
   "source": [
    "En las expresiones también podemos usar llamadas a funciones, siempre que sean funciones que devuelvan algún resultado. Para que una función devuelva un valor cuando sea invocada, usaremos la instrucción **return** en algún punto del cuerpo de la función (casi siempre, al final del cuerpo de la función). Por ejemplo:"
   ]
  },
  {
   "cell_type": "code",
   "execution_count": 85,
   "metadata": {
    "collapsed": false
   },
   "outputs": [
    {
     "data": {
      "text/plain": [
       "20"
      ]
     },
     "execution_count": 85,
     "metadata": {},
     "output_type": "execute_result"
    }
   ],
   "source": [
    "def doble(x):\n",
    "    return x*2\n",
    "\n",
    "doble(10)"
   ]
  },
  {
   "cell_type": "markdown",
   "metadata": {
    "nbpresent": {
     "id": "ee1bdf03-6e13-4f1f-9dc9-22d4e344fdba"
    }
   },
   "source": [
    "A veces necesitamos guardar el resultado de una expresión para utilizarlo más adelante en nuestro programa. Para esto se usan las **variables**. "
   ]
  },
  {
   "cell_type": "code",
   "execution_count": 86,
   "metadata": {
    "collapsed": false,
    "nbpresent": {
     "id": "14d1a927-b37f-4323-9404-17d453f3b487"
    }
   },
   "outputs": [
    {
     "name": "stdout",
     "output_type": "stream",
     "text": [
      "25.6\n"
     ]
    }
   ],
   "source": [
    "resultado = (3 + 5) * doble(8)\n",
    "print(resultado/5)"
   ]
  },
  {
   "cell_type": "markdown",
   "metadata": {
    "nbpresent": {
     "id": "c71a78d7-9d0e-4825-9c84-9998f971317d"
    }
   },
   "source": [
    "Hemos **asignado** a la variable *resultado* el valor de la expresión que hemos escrito a la derecha del carácter igual (=), de manera que más adelante en el programa podremos utilizar ese valor haciendo mención a la variable. A este carácter igual lo llamamos instrucción de **asignación**."
   ]
  },
  {
   "cell_type": "markdown",
   "metadata": {},
   "source": [
    "### ¡Prueba tú!"
   ]
  },
  {
   "cell_type": "markdown",
   "metadata": {},
   "source": [
    "Intenta definir una función de nombre *descuento* que reciba como parámetro un valor y un porcentaje y devuelva el resultado de aplicar el descuento correpsondiente al porcentaje sobre el valor indicado."
   ]
  },
  {
   "cell_type": "code",
   "execution_count": 87,
   "metadata": {
    "collapsed": false
   },
   "outputs": [],
   "source": [
    "# Define aquí la función\n",
    "\n",
    "\n",
    "\n"
   ]
  },
  {
   "cell_type": "markdown",
   "metadata": {},
   "source": [
    "Cuando la termines de escribir, prueba a ejecutar esta prueba:"
   ]
  },
  {
   "cell_type": "code",
   "execution_count": 88,
   "metadata": {
    "collapsed": false
   },
   "outputs": [
    {
     "name": "stdout",
     "output_type": "stream",
     "text": [
      "Precio con 10% de descuento: 180.0\n"
     ]
    }
   ],
   "source": [
    "precio=200\n",
    "print(\"Precio con 10% de descuento:\",descuento(precio,10))"
   ]
  },
  {
   "cell_type": "markdown",
   "metadata": {},
   "source": [
    "## Tipos"
   ]
  },
  {
   "cell_type": "markdown",
   "metadata": {},
   "source": [
    "En los ejemplos anteriores, hemos utilizado **literales** de tipo **cadena de caracteres** (por ejemplo, *\"Hola, mundo!\"*) y literales de tipo número **entero** (por ejemplo, *3*, *5* y *8*). Hay más tipos de literales, por ejemplo literales de tipo número **real**: "
   ]
  },
  {
   "cell_type": "code",
   "execution_count": 89,
   "metadata": {
    "collapsed": false,
    "nbpresent": {
     "id": "80be6133-d85a-4e43-9964-6578abcbaaac"
    }
   },
   "outputs": [
    {
     "name": "stdout",
     "output_type": "stream",
     "text": [
      "7.0685775\n"
     ]
    }
   ],
   "source": [
    "PI = 3.14159\n",
    "radio = 1.5\n",
    "area = PI*radio**2   # El operador ** sirve para calcular potencias\n",
    "print(area)"
   ]
  },
  {
   "cell_type": "markdown",
   "metadata": {
    "nbpresent": {
     "id": "9b7597e9-aaa9-4d9f-ba0d-22f43d1a3900"
    }
   },
   "source": [
    "Cuando necesitamos almacenar varios datos en una sola variable, utilizamos literales de tipo **lista**:"
   ]
  },
  {
   "cell_type": "code",
   "execution_count": 90,
   "metadata": {
    "collapsed": false,
    "nbpresent": {
     "id": "0281a659-abae-4cb9-b30f-b552b9db399e"
    }
   },
   "outputs": [
    {
     "name": "stdout",
     "output_type": "stream",
     "text": [
      "[28.5, 27.8, 29.5, 32.1, 30.7, 25.5, 26.0]\n"
     ]
    }
   ],
   "source": [
    "temperaturas = [28.5, 27.8, 29.5, 32.1, 30.7, 25.5, 26.0]\n",
    "print(temperaturas)"
   ]
  },
  {
   "cell_type": "code",
   "execution_count": 91,
   "metadata": {
    "collapsed": false
   },
   "outputs": [
    {
     "name": "stdout",
     "output_type": "stream",
     "text": [
      "['Spiderman', 'Iron Man', 'Lobezno', 'Capitán América', 'Hulk']\n"
     ]
    }
   ],
   "source": [
    "heroes = [\"Spiderman\", \"Iron Man\", \"Lobezno\", \"Capitán América\", \"Hulk\"]\n",
    "print(heroes)"
   ]
  },
  {
   "cell_type": "markdown",
   "metadata": {
    "collapsed": true
   },
   "source": [
    "O, a veces, de tipo **tupla**, que se escriben igual pero usando paréntesis en lugar de corchetes:"
   ]
  },
  {
   "cell_type": "code",
   "execution_count": 92,
   "metadata": {
    "collapsed": false
   },
   "outputs": [
    {
     "name": "stdout",
     "output_type": "stream",
     "text": [
      "('Mark', 'Lenders')\n"
     ]
    }
   ],
   "source": [
    "usuario = (\"Mark\",\"Lenders\")\n",
    "print(usuario)"
   ]
  },
  {
   "cell_type": "markdown",
   "metadata": {},
   "source": [
    "Ambos, listas y tuplas, se parecen mucho (ya veremos algunas diferencias más adelante). Podemos acceder a un elemento concreto, indicando el **índice** de dicho elemento (es decir, la posición que ocupa dentro de la lista o tupla, contando desde la izquierda):"
   ]
  },
  {
   "cell_type": "code",
   "execution_count": 93,
   "metadata": {
    "collapsed": false
   },
   "outputs": [
    {
     "data": {
      "text/plain": [
       "28.5"
      ]
     },
     "execution_count": 93,
     "metadata": {},
     "output_type": "execute_result"
    }
   ],
   "source": [
    "temperaturas[0]   # La primera posición corresponde al índice 0"
   ]
  },
  {
   "cell_type": "code",
   "execution_count": 94,
   "metadata": {
    "collapsed": false
   },
   "outputs": [
    {
     "data": {
      "text/plain": [
       "'Hulk'"
      ]
     },
     "execution_count": 94,
     "metadata": {},
     "output_type": "execute_result"
    }
   ],
   "source": [
    "heroes[4]"
   ]
  },
  {
   "cell_type": "code",
   "execution_count": 95,
   "metadata": {
    "collapsed": false
   },
   "outputs": [
    {
     "data": {
      "text/plain": [
       "'Lenders'"
      ]
     },
     "execution_count": 95,
     "metadata": {},
     "output_type": "execute_result"
    }
   ],
   "source": [
    "usuario[1]"
   ]
  },
  {
   "cell_type": "code",
   "execution_count": 96,
   "metadata": {
    "collapsed": false
   },
   "outputs": [
    {
     "name": "stdout",
     "output_type": "stream",
     "text": [
      "[28.5, 27.0, 29.5, 32.1, 30.7, 25.5, 26.0]\n"
     ]
    }
   ],
   "source": [
    "temperaturas[1] = 27.0     # Puedo asignar un valor a una posición cualquiera de una lista o tupla\n",
    "print(temperaturas)"
   ]
  },
  {
   "cell_type": "code",
   "execution_count": 97,
   "metadata": {
    "collapsed": false
   },
   "outputs": [
    {
     "name": "stdout",
     "output_type": "stream",
     "text": [
      "[29.0, 27.0, 29.5, 32.1, 30.7, 25.5, 26.0]\n"
     ]
    }
   ],
   "source": [
    "temperaturas[0] = temperaturas[0] + 0.5    # Incrementamos en 0.5 grados la primera temperatura de la lista\n",
    "print(temperaturas)"
   ]
  },
  {
   "cell_type": "markdown",
   "metadata": {},
   "source": [
    "También podemos conocer en cualquier momento el número total de elementos dentro de una lista o una tupla mediante la función predefinida **len**:"
   ]
  },
  {
   "cell_type": "code",
   "execution_count": 98,
   "metadata": {
    "collapsed": false
   },
   "outputs": [
    {
     "data": {
      "text/plain": [
       "7"
      ]
     },
     "execution_count": 98,
     "metadata": {},
     "output_type": "execute_result"
    }
   ],
   "source": [
    "len(temperaturas)"
   ]
  },
  {
   "cell_type": "code",
   "execution_count": 99,
   "metadata": {
    "collapsed": false
   },
   "outputs": [
    {
     "data": {
      "text/plain": [
       "2"
      ]
     },
     "execution_count": 99,
     "metadata": {},
     "output_type": "execute_result"
    }
   ],
   "source": [
    "len(usuario)"
   ]
  },
  {
   "cell_type": "markdown",
   "metadata": {},
   "source": [
    "---\n",
    "**¡Cuidado!** No podemos asignar valores a las posiciones de una tupla. Prueba a ejecutar este código:"
   ]
  },
  {
   "cell_type": "code",
   "execution_count": 100,
   "metadata": {
    "collapsed": false
   },
   "outputs": [
    {
     "ename": "TypeError",
     "evalue": "'tuple' object does not support item assignment",
     "output_type": "error",
     "traceback": [
      "\u001b[0;31m------------------------------------------------------------------------\u001b[0m",
      "\u001b[0;31mTypeError\u001b[0m                              Traceback (most recent call last)",
      "\u001b[0;32m<ipython-input-100-8a776076d7e5>\u001b[0m in \u001b[0;36m<module>\u001b[0;34m()\u001b[0m\n\u001b[0;32m----> 1\u001b[0;31m \u001b[0musuario\u001b[0m\u001b[1;33m[\u001b[0m\u001b[1;36m0\u001b[0m\u001b[1;33m]\u001b[0m\u001b[1;33m=\u001b[0m\u001b[1;34m\"Marcos\"\u001b[0m \u001b[1;31m# Cambiemos el nombre del usuario\u001b[0m\u001b[1;33m\u001b[0m\u001b[0m\n\u001b[0m",
      "\u001b[0;31mTypeError\u001b[0m: 'tuple' object does not support item assignment"
     ]
    }
   ],
   "source": [
    "usuario[0]=\"Marcos\" # Cambiemos el nombre del usuario"
   ]
  },
  {
   "cell_type": "markdown",
   "metadata": {},
   "source": [
    "Decimos que las tuplas son un **tipo inmutable**, lo que significa que una vez que hemos guardado un valor en una variable de este tipo, ¡ya no podremos cambiarlo!\n",
    "\n",
    "Lo que acaba de ocurrir es un **error en tiempo de ejecución**. Estos errores ocurren frecuentemente mientras estamos escribiendo y probando nuestros programas, y significan que no hemos hecho algo de la manera correcta. Cuando se produce uno de estos errores, el programa deja de ejecutarse. Cuando nuestro programa esté acabado y bien probado, no debería ocurrir ninguno de estos errores... Aunque ocasionalmente ocurre. Seguro que te suena esta ventana:\n",
    "\n",
    "![title](img001.png)\n"
   ]
  },
  {
   "cell_type": "markdown",
   "metadata": {},
   "source": [
    "### ¡Prueba tú!"
   ]
  },
  {
   "cell_type": "markdown",
   "metadata": {},
   "source": [
    "Los elementos de la lista *temperaturas* son números reales. Pero una lista puede elementos del tipo que quieras. Intenta definir una lista *usuarios*, en la que cada elemento sea una tupla *(nombre, apellido)*, como la tupla *usuario* que hemos definido anteriormente. Aquí tienes algunos pares nombre-apellido que puedes meter en la lista:\n",
    "* Mark Lenders\n",
    "* Oliver Atom\n",
    "* Benji Price"
   ]
  },
  {
   "cell_type": "code",
   "execution_count": 101,
   "metadata": {
    "collapsed": false
   },
   "outputs": [
    {
     "ename": "SyntaxError",
     "evalue": "invalid syntax (<ipython-input-101-440b001d6abf>, line 2)",
     "output_type": "error",
     "traceback": [
      "\u001b[0;36m  File \u001b[0;32m\"<ipython-input-101-440b001d6abf>\"\u001b[0;36m, line \u001b[0;32m2\u001b[0m\n\u001b[0;31m    usuarios =\u001b[0m\n\u001b[0m               ^\u001b[0m\n\u001b[0;31mSyntaxError\u001b[0m\u001b[0;31m:\u001b[0m invalid syntax\n"
     ]
    }
   ],
   "source": [
    "# Completa la instrucción siguiente:\n",
    "usuarios = "
   ]
  },
  {
   "cell_type": "markdown",
   "metadata": {},
   "source": [
    "## Objetos"
   ]
  },
  {
   "cell_type": "markdown",
   "metadata": {},
   "source": [
    "Si queremos añadir un elemento a la lista *temperaturas*, podemos hacerlo así:"
   ]
  },
  {
   "cell_type": "code",
   "execution_count": 102,
   "metadata": {
    "collapsed": false
   },
   "outputs": [
    {
     "name": "stdout",
     "output_type": "stream",
     "text": [
      "[29.0, 27.0, 29.5, 32.1, 30.7, 25.5, 26.0, 29.2]\n",
      "8\n"
     ]
    }
   ],
   "source": [
    "temperaturas.append(29.2)  # añade el valor 29.2 al final de la lista\n",
    "print(temperaturas)\n",
    "print(len(temperaturas))"
   ]
  },
  {
   "cell_type": "markdown",
   "metadata": {},
   "source": [
    "Cuando una variable (*temperaturas*) puede ser usada como en el ejemplo anterior, escribiendo un punto (.) y a continuación invocando a una función (*append*), decimos que la variable es un **objeto**, y a la función en cuestión la llamamos **método**. La principal diferencia entre un método y una función es que el primero sólo se puede llamar si tenemos previamente un objeto del tipo adecuado. Por ejemplo, el método *append* sólo puede ser invocado sobre un objeto de tipo lista. \n",
    "\n",
    "Intentemos llamar a *append* como si fuese una función:"
   ]
  },
  {
   "cell_type": "code",
   "execution_count": 103,
   "metadata": {
    "collapsed": false
   },
   "outputs": [
    {
     "ename": "NameError",
     "evalue": "name 'append' is not defined",
     "output_type": "error",
     "traceback": [
      "\u001b[0;31m------------------------------------------------------------------------\u001b[0m",
      "\u001b[0;31mNameError\u001b[0m                              Traceback (most recent call last)",
      "\u001b[0;32m<ipython-input-103-6dd9813cd402>\u001b[0m in \u001b[0;36m<module>\u001b[0;34m()\u001b[0m\n\u001b[0;32m----> 1\u001b[0;31m \u001b[0mappend\u001b[0m\u001b[1;33m(\u001b[0m\u001b[1;36m29.2\u001b[0m\u001b[1;33m)\u001b[0m\u001b[1;33m\u001b[0m\u001b[0m\n\u001b[0m",
      "\u001b[0;31mNameError\u001b[0m: name 'append' is not defined"
     ]
    }
   ],
   "source": [
    "append(29.2)"
   ]
  },
  {
   "cell_type": "markdown",
   "metadata": {},
   "source": [
    "Puedes ver todos los métodos que tiene un objeto mediante la función predefinida **dir**:"
   ]
  },
  {
   "cell_type": "code",
   "execution_count": 104,
   "metadata": {
    "collapsed": false
   },
   "outputs": [
    {
     "data": {
      "text/plain": [
       "['__add__',\n",
       " '__class__',\n",
       " '__contains__',\n",
       " '__delattr__',\n",
       " '__delitem__',\n",
       " '__dir__',\n",
       " '__doc__',\n",
       " '__eq__',\n",
       " '__format__',\n",
       " '__ge__',\n",
       " '__getattribute__',\n",
       " '__getitem__',\n",
       " '__gt__',\n",
       " '__hash__',\n",
       " '__iadd__',\n",
       " '__imul__',\n",
       " '__init__',\n",
       " '__iter__',\n",
       " '__le__',\n",
       " '__len__',\n",
       " '__lt__',\n",
       " '__mul__',\n",
       " '__ne__',\n",
       " '__new__',\n",
       " '__reduce__',\n",
       " '__reduce_ex__',\n",
       " '__repr__',\n",
       " '__reversed__',\n",
       " '__rmul__',\n",
       " '__setattr__',\n",
       " '__setitem__',\n",
       " '__sizeof__',\n",
       " '__str__',\n",
       " '__subclasshook__',\n",
       " 'append',\n",
       " 'clear',\n",
       " 'copy',\n",
       " 'count',\n",
       " 'extend',\n",
       " 'index',\n",
       " 'insert',\n",
       " 'pop',\n",
       " 'remove',\n",
       " 'reverse',\n",
       " 'sort']"
      ]
     },
     "execution_count": 104,
     "metadata": {},
     "output_type": "execute_result"
    }
   ],
   "source": [
    "dir(temperaturas)"
   ]
  },
  {
   "cell_type": "markdown",
   "metadata": {},
   "source": [
    "Y si quieres una descripción más detallada de cada método, puedes usar la función **help**, que ya hemos usado anteriormente."
   ]
  },
  {
   "cell_type": "code",
   "execution_count": 105,
   "metadata": {
    "collapsed": false
   },
   "outputs": [
    {
     "name": "stdout",
     "output_type": "stream",
     "text": [
      "Help on list object:\n",
      "\n",
      "class list(object)\n",
      " |  list() -> new empty list\n",
      " |  list(iterable) -> new list initialized from iterable's items\n",
      " |  \n",
      " |  Methods defined here:\n",
      " |  \n",
      " |  __add__(self, value, /)\n",
      " |      Return self+value.\n",
      " |  \n",
      " |  __contains__(self, key, /)\n",
      " |      Return key in self.\n",
      " |  \n",
      " |  __delitem__(self, key, /)\n",
      " |      Delete self[key].\n",
      " |  \n",
      " |  __eq__(self, value, /)\n",
      " |      Return self==value.\n",
      " |  \n",
      " |  __ge__(self, value, /)\n",
      " |      Return self>=value.\n",
      " |  \n",
      " |  __getattribute__(self, name, /)\n",
      " |      Return getattr(self, name).\n",
      " |  \n",
      " |  __getitem__(...)\n",
      " |      x.__getitem__(y) <==> x[y]\n",
      " |  \n",
      " |  __gt__(self, value, /)\n",
      " |      Return self>value.\n",
      " |  \n",
      " |  __iadd__(self, value, /)\n",
      " |      Implement self+=value.\n",
      " |  \n",
      " |  __imul__(self, value, /)\n",
      " |      Implement self*=value.\n",
      " |  \n",
      " |  __init__(self, /, *args, **kwargs)\n",
      " |      Initialize self.  See help(type(self)) for accurate signature.\n",
      " |  \n",
      " |  __iter__(self, /)\n",
      " |      Implement iter(self).\n",
      " |  \n",
      " |  __le__(self, value, /)\n",
      " |      Return self<=value.\n",
      " |  \n",
      " |  __len__(self, /)\n",
      " |      Return len(self).\n",
      " |  \n",
      " |  __lt__(self, value, /)\n",
      " |      Return self<value.\n",
      " |  \n",
      " |  __mul__(self, value, /)\n",
      " |      Return self*value.n\n",
      " |  \n",
      " |  __ne__(self, value, /)\n",
      " |      Return self!=value.\n",
      " |  \n",
      " |  __new__(*args, **kwargs) from builtins.type\n",
      " |      Create and return a new object.  See help(type) for accurate signature.\n",
      " |  \n",
      " |  __repr__(self, /)\n",
      " |      Return repr(self).\n",
      " |  \n",
      " |  __reversed__(...)\n",
      " |      L.__reversed__() -- return a reverse iterator over the list\n",
      " |  \n",
      " |  __rmul__(self, value, /)\n",
      " |      Return self*value.\n",
      " |  \n",
      " |  __setitem__(self, key, value, /)\n",
      " |      Set self[key] to value.\n",
      " |  \n",
      " |  __sizeof__(...)\n",
      " |      L.__sizeof__() -- size of L in memory, in bytes\n",
      " |  \n",
      " |  append(...)\n",
      " |      L.append(object) -> None -- append object to end\n",
      " |  \n",
      " |  clear(...)\n",
      " |      L.clear() -> None -- remove all items from L\n",
      " |  \n",
      " |  copy(...)\n",
      " |      L.copy() -> list -- a shallow copy of L\n",
      " |  \n",
      " |  count(...)\n",
      " |      L.count(value) -> integer -- return number of occurrences of value\n",
      " |  \n",
      " |  extend(...)\n",
      " |      L.extend(iterable) -> None -- extend list by appending elements from the iterable\n",
      " |  \n",
      " |  index(...)\n",
      " |      L.index(value, [start, [stop]]) -> integer -- return first index of value.\n",
      " |      Raises ValueError if the value is not present.\n",
      " |  \n",
      " |  insert(...)\n",
      " |      L.insert(index, object) -- insert object before index\n",
      " |  \n",
      " |  pop(...)\n",
      " |      L.pop([index]) -> item -- remove and return item at index (default last).\n",
      " |      Raises IndexError if list is empty or index is out of range.\n",
      " |  \n",
      " |  remove(...)\n",
      " |      L.remove(value) -> None -- remove first occurrence of value.\n",
      " |      Raises ValueError if the value is not present.\n",
      " |  \n",
      " |  reverse(...)\n",
      " |      L.reverse() -- reverse *IN PLACE*\n",
      " |  \n",
      " |  sort(...)\n",
      " |      L.sort(key=None, reverse=False) -> None -- stable sort *IN PLACE*\n",
      " |  \n",
      " |  ----------------------------------------------------------------------\n",
      " |  Data and other attributes defined here:\n",
      " |  \n",
      " |  __hash__ = None\n",
      "\n"
     ]
    }
   ],
   "source": [
    "help(temperaturas)"
   ]
  },
  {
   "cell_type": "markdown",
   "metadata": {},
   "source": [
    "### ¡Prueba tú!"
   ]
  },
  {
   "cell_type": "markdown",
   "metadata": {},
   "source": [
    "Intenta utilizar algunos de los métodos del objeto *temperaturas*:"
   ]
  },
  {
   "cell_type": "code",
   "execution_count": null,
   "metadata": {
    "collapsed": true
   },
   "outputs": [],
   "source": [
    "\n",
    "\n",
    "\n"
   ]
  },
  {
   "cell_type": "markdown",
   "metadata": {},
   "source": [
    "## Control del flujo de ejecución"
   ]
  },
  {
   "cell_type": "markdown",
   "metadata": {},
   "source": [
    "Podemos utilizar la instrucción **for** para recorrer los elementos de una lista o una tupla. Llamamos a esto un **bucle**."
   ]
  },
  {
   "cell_type": "code",
   "execution_count": 106,
   "metadata": {
    "collapsed": false
   },
   "outputs": [
    {
     "name": "stdout",
     "output_type": "stream",
     "text": [
      "Temperatura: 29.0\n",
      "Temperatura: 27.0\n",
      "Temperatura: 29.5\n",
      "Temperatura: 32.1\n",
      "Temperatura: 30.7\n",
      "Temperatura: 25.5\n",
      "Temperatura: 26.0\n",
      "Temperatura: 29.2\n"
     ]
    }
   ],
   "source": [
    "for temperatura in temperaturas:    # Se puede leer así: para cada valor \"temperatura\" en la lista \"temperaturas\"\n",
    "    print(\"Temperatura:\", temperatura)"
   ]
  },
  {
   "cell_type": "markdown",
   "metadata": {},
   "source": [
    "En el código anterior, la instrucción que aparece indentada se ejecuta una vez para cada elemento de la lista *temperaturas*. En cada ejecución, la variable *temperatura* almacena un elemento distinto de la lista, comenzando por el primero y pasando por cada elemento secuencialmente. Date cuenta también de que la función predefinida *print* se puede usar con varios parámetros, en cuyo caso mostrará cada uno de ellos por pantalla.\n",
    "\n",
    "Veamos otro ejemplo de bucle:"
   ]
  },
  {
   "cell_type": "code",
   "execution_count": 107,
   "metadata": {
    "collapsed": false
   },
   "outputs": [
    {
     "name": "stdout",
     "output_type": "stream",
     "text": [
      "La temperatura media en la semana ha sido 32.71428571428571 grados.\n"
     ]
    }
   ],
   "source": [
    "suma = 0\n",
    "for temperatura in temperaturas:\n",
    "    suma += temperatura   # El operador += almacena en \"suma\" el resultado de sumar \"temperatura\" al valor anterior de \"suma\"\n",
    "\n",
    "print(\"La temperatura media en la semana ha sido\", suma/7, \"grados.\")"
   ]
  },
  {
   "cell_type": "markdown",
   "metadata": {},
   "source": [
    "Aunque realmente no hace falta hacer un bucle para sumar los elementos de una lista, ya que esto mismo podemos hacerlo en Python con la función predefinida **sum**."
   ]
  },
  {
   "cell_type": "code",
   "execution_count": 108,
   "metadata": {
    "collapsed": false
   },
   "outputs": [
    {
     "name": "stdout",
     "output_type": "stream",
     "text": [
      "La temperatura media en la semana ha sido 32.71428571428571 grados.\n"
     ]
    }
   ],
   "source": [
    "print(\"La temperatura media en la semana ha sido\", sum(temperaturas)/7, \"grados.\")"
   ]
  },
  {
   "cell_type": "markdown",
   "metadata": {},
   "source": [
    "La instrucción *for* es una instrucción de **control del flujo de ejecución**, pues permite que la secuencia en que se van ejecutando las distintas instrucciones varíe con respecto a la ejecución esperada (recordemos que, por defecto, las instrucciones se van ejecutando una tras otra, en el orden en que las hemos escrito, y una sola vez). Otra instrucción que también altera el flujo normal de ejecución es la instrucción **if**. Veamos un ejemplo:"
   ]
  },
  {
   "cell_type": "code",
   "execution_count": 109,
   "metadata": {
    "collapsed": false
   },
   "outputs": [
    {
     "name": "stdout",
     "output_type": "stream",
     "text": [
      "Buenos días, Fermín\n",
      "Buenas tardes, Fermín\n",
      "Buenas noches, Fermín\n"
     ]
    }
   ],
   "source": [
    "def saluda(nombre,hora):\n",
    "    if hora<12:     # Si el parámetro \"hora\" es menor de 12, se ejecuta el siguiente bloque de instrucciones\n",
    "        print(\"Buenos días, \" + nombre)\n",
    "    elif hora<21:   # En otro caso, si el parámetro \"hora\" es menor de 21, se ejecuta el siguiente bloque de instrucciones\n",
    "        print(\"Buenas tardes, \" + nombre)\n",
    "    else:           # En cualquier otro caso, se ejecuta el siguiente bloque de instrucciones\n",
    "        print(\"Buenas noches, \" + nombre)\n",
    "\n",
    "saluda(\"Fermín\",11)\n",
    "saluda(\"Fermín\",16)\n",
    "saluda(\"Fermín\",23)\n"
   ]
  },
  {
   "cell_type": "markdown",
   "metadata": {},
   "source": [
    "Observa que las **palabras clave** que se usan son **if**, **elif** y **else**, y que a continuación de las dos primeras se escribe una expresión lógica (es decir, una expresión cuyo resultado es de tipo lógico: verdadero o falso). Las instrucciones que aparecen tras la palabra **if** sólo se ejecutan si la expresión correspondiente se evalúa como verdadera. Las instrucciones que aparecen tras la palabra **elif** sólo se ejecutan si no se han ejecutado las anteriores, y si la expresión correspondiente se evalúa como verdadera. Las instrucciones que aparecen tras la palabra **else** sólo se ejecutan si no se han ejecutado ninguna de las anteriores. \n",
    "\n",
    "Aquí tienes otros ejemplos:"
   ]
  },
  {
   "cell_type": "code",
   "execution_count": 110,
   "metadata": {
    "collapsed": false
   },
   "outputs": [],
   "source": [
    "temperaturaActual=temperaturas[6]\n",
    "if temperaturaActual<0:  # Si la temperatura es menor de cero grados\n",
    "    print(\"¡Cuidado! Riesgo de congelación.\")\n"
   ]
  },
  {
   "cell_type": "code",
   "execution_count": 111,
   "metadata": {
    "collapsed": false
   },
   "outputs": [
    {
     "name": "stdout",
     "output_type": "stream",
     "text": [
      "Hola, Mark. Te estaba esperando.\n"
     ]
    }
   ],
   "source": [
    "# Si el primer elemento de la tupla \"usuario\" es igual a \"Mark\" y el segundo elemento es igual a \"Lenders\"\n",
    "if usuario[0]==\"Mark\" and usuario[1]==\"Lenders\": \n",
    "    print(\"Hola, Mark. Te estaba esperando.\")\n",
    "else:  # En otro caso\n",
    "    print(\"Hola, ¿nos conocemos?\")\n"
   ]
  },
  {
   "cell_type": "code",
   "execution_count": 112,
   "metadata": {
    "collapsed": false
   },
   "outputs": [],
   "source": [
    "def acceso_restringido(usuario):\n",
    "    if usuario[0]==\"Mark\" and usuario[1]==\"Lenders\": \n",
    "        print(\"Hola, Mark. Te estaba esperando.\")\n",
    "    elif usuario[0]==\"Oliver\" and usuario[1]==\"Atom\": \n",
    "        print(\"Hola, Oliver. Te estaba esperando.\")\n",
    "    elif usuario[0]==\"Benji\" and usuario[1]==\"Price\": \n",
    "        print(\"Hola, Benji. Te estaba esperando.\")\n",
    "    else:  \n",
    "        print(\"Hola, ¿nos conocemos?\")\n"
   ]
  },
  {
   "cell_type": "markdown",
   "metadata": {},
   "source": [
    "Para escribir las expresiones lógicas se usan distintos **operadores lógicos** (como el operador **and**) y **operadores relacionales** (como los operadores **>** o **==**). Iremos viendo más operadores de estos tipos a medida que los vayamos necesitando."
   ]
  },
  {
   "cell_type": "markdown",
   "metadata": {},
   "source": [
    "### ¡Prueba tú!"
   ]
  },
  {
   "cell_type": "markdown",
   "metadata": {},
   "source": [
    "Escribe un bucle *for* para llamar a la función *acceso_restringido* pasándole cada uno de los elementos de la lista *usuarios*."
   ]
  },
  {
   "cell_type": "code",
   "execution_count": null,
   "metadata": {
    "collapsed": true
   },
   "outputs": [],
   "source": [
    "\n",
    "\n"
   ]
  },
  {
   "cell_type": "markdown",
   "metadata": {},
   "source": [
    "## Módulos y paquetes"
   ]
  },
  {
   "cell_type": "markdown",
   "metadata": {},
   "source": [
    "Además de las funciones predefinidas, hay muchas otras cosas que se pueden hacer con Python sin necesidad de implementar nosotros ninguna función ni tener que descargar o instalar nada en el ordenador. Eso sí, para poder hacer uso de estas funcionalidades incluidas en Python, es necesario **importar** el módulo o módulos donde están implementadas. Un **módulo** es cada uno de los ficheros con extensión .py en los que están escritos los programas en Python. Los módulos están agrupados en **paquetes**, que son parecidos a las carpetas del explorador de archivos de Windows.\n",
    "\n",
    "Por ejemplo, si queremos generar números aleatorios, podemos usar el módulo **random**. Antes de hacerlo, es necesario importarlo. Prueba a ejecutar varias veces el siguiente código y verás como cada vez se genera un número distinto:"
   ]
  },
  {
   "cell_type": "code",
   "execution_count": 113,
   "metadata": {
    "collapsed": false
   },
   "outputs": [
    {
     "name": "stdout",
     "output_type": "stream",
     "text": [
      "1\n"
     ]
    }
   ],
   "source": [
    "import random\n",
    "\n",
    "print(random.randint(1,10))"
   ]
  },
  {
   "cell_type": "markdown",
   "metadata": {},
   "source": [
    "Fíjate que para llamar a la función randint, que está definida dentro del módulo random, debemos escribir *random.randint(...)*. Si vamos a usar muy a menudo la función en nuestro código, también podemos importarla así:"
   ]
  },
  {
   "cell_type": "code",
   "execution_count": 114,
   "metadata": {
    "collapsed": false
   },
   "outputs": [
    {
     "name": "stdout",
     "output_type": "stream",
     "text": [
      "10\n"
     ]
    }
   ],
   "source": [
    "from random import randint\n",
    "\n",
    "print(randint(1,10))"
   ]
  },
  {
   "cell_type": "markdown",
   "metadata": {},
   "source": [
    "De esta manera ya no es necesario indicar la ubicación de la función cada vez que la llamemos. Aunque es más cómodo, no es del todo recomendable, como veremos más adelante.\n",
    "\n",
    "¿Y si queremos generar, pongamos, 20 números aleatorios, entre 1 y 10? Podemos hacerlo con la instrucción **for**, la misma que utilizamos antes para recorrer los elementos de una lista:"
   ]
  },
  {
   "cell_type": "code",
   "execution_count": 115,
   "metadata": {
    "collapsed": false
   },
   "outputs": [
    {
     "name": "stdout",
     "output_type": "stream",
     "text": [
      "[8, 3, 2, 6, 3, 1, 9, 8, 8, 8, 10, 2, 8, 10, 5, 1, 1, 10, 4, 6]\n"
     ]
    }
   ],
   "source": [
    "numeros = []\n",
    "for i in range(20):  # la función predefinida \"range\" devuelve los números enteros del 0 al 19.\n",
    "    numeros.append(randint(1,10))\n",
    "print(numeros)"
   ]
  },
  {
   "cell_type": "markdown",
   "metadata": {},
   "source": [
    "En el siguiente ejemplo, usamos el módulo *datetime*, que nos permite, entre otras cosas, saber la hora actual en que se está ejecutando el programa."
   ]
  },
  {
   "cell_type": "code",
   "execution_count": 116,
   "metadata": {
    "collapsed": false
   },
   "outputs": [
    {
     "name": "stdout",
     "output_type": "stream",
     "text": [
      "Buenas tardes, Fermín\n"
     ]
    }
   ],
   "source": [
    "from datetime import datetime # El módulo se llama \"datetime\", y dentro hay definido un objeto que también se llama \"datetime\"\n",
    "horaActual = datetime.now() # El método now() devuelve un objeto de tipo datetime\n",
    "saluda(\"Fermín\",horaActual.hour)  # El objeto horaActual tiene un atributo hour que indica la hora actual (de 0 a 23)\n"
   ]
  },
  {
   "cell_type": "markdown",
   "metadata": {},
   "source": [
    "En el ejemplo anterior, cuando escribimos *horaActual.hour* estamos accediendo a un **atributo**, llamado *hour*, del objeto *horaActual*. Por tanto, los objetos tienen, además de métodos, atributos, los cuales son parecidos a las variables (al igual que los métodos eran parecidos a las funciones). La manera de diferenciar si estamos accediendo a un atributo o llamando a un método es que en el segundo caso usamos los paréntesis."
   ]
  },
  {
   "cell_type": "markdown",
   "metadata": {},
   "source": [
    "Con los distintos módulos existentes para Python se puede hacer prácticamente de todo. Por ejemplo, dibujar gráficas de todos tipo, mediante la librería **matplotlib**. Cuando hablamos de una **librería** nos referimos a un conjunto de módulos, generalmente bastantes, relacionados entre sí por el tipo de funcionalidad que ofrecen. Generalmente, los módulos de una librería están agrupados dentro de un paquete, como es el caso de *matplotlib*."
   ]
  },
  {
   "cell_type": "code",
   "execution_count": 117,
   "metadata": {
    "collapsed": false,
    "scrolled": false
   },
   "outputs": [
    {
     "data": {
      "application/javascript": [
       "/* Put everything inside the global mpl namespace */\n",
       "window.mpl = {};\n",
       "\n",
       "\n",
       "mpl.get_websocket_type = function() {\n",
       "    if (typeof(WebSocket) !== 'undefined') {\n",
       "        return WebSocket;\n",
       "    } else if (typeof(MozWebSocket) !== 'undefined') {\n",
       "        return MozWebSocket;\n",
       "    } else {\n",
       "        alert('Your browser does not have WebSocket support.' +\n",
       "              'Please try Chrome, Safari or Firefox ≥ 6. ' +\n",
       "              'Firefox 4 and 5 are also supported but you ' +\n",
       "              'have to enable WebSockets in about:config.');\n",
       "    };\n",
       "}\n",
       "\n",
       "mpl.figure = function(figure_id, websocket, ondownload, parent_element) {\n",
       "    this.id = figure_id;\n",
       "\n",
       "    this.ws = websocket;\n",
       "\n",
       "    this.supports_binary = (this.ws.binaryType != undefined);\n",
       "\n",
       "    if (!this.supports_binary) {\n",
       "        var warnings = document.getElementById(\"mpl-warnings\");\n",
       "        if (warnings) {\n",
       "            warnings.style.display = 'block';\n",
       "            warnings.textContent = (\n",
       "                \"This browser does not support binary websocket messages. \" +\n",
       "                    \"Performance may be slow.\");\n",
       "        }\n",
       "    }\n",
       "\n",
       "    this.imageObj = new Image();\n",
       "\n",
       "    this.context = undefined;\n",
       "    this.message = undefined;\n",
       "    this.canvas = undefined;\n",
       "    this.rubberband_canvas = undefined;\n",
       "    this.rubberband_context = undefined;\n",
       "    this.format_dropdown = undefined;\n",
       "\n",
       "    this.image_mode = 'full';\n",
       "\n",
       "    this.root = $('<div/>');\n",
       "    this._root_extra_style(this.root)\n",
       "    this.root.attr('style', 'display: inline-block');\n",
       "\n",
       "    $(parent_element).append(this.root);\n",
       "\n",
       "    this._init_header(this);\n",
       "    this._init_canvas(this);\n",
       "    this._init_toolbar(this);\n",
       "\n",
       "    var fig = this;\n",
       "\n",
       "    this.waiting = false;\n",
       "\n",
       "    this.ws.onopen =  function () {\n",
       "            fig.send_message(\"supports_binary\", {value: fig.supports_binary});\n",
       "            fig.send_message(\"send_image_mode\", {});\n",
       "            if (mpl.ratio != 1) {\n",
       "                fig.send_message(\"set_dpi_ratio\", {'dpi_ratio': mpl.ratio});\n",
       "            }\n",
       "            fig.send_message(\"refresh\", {});\n",
       "        }\n",
       "\n",
       "    this.imageObj.onload = function() {\n",
       "            if (fig.image_mode == 'full') {\n",
       "                // Full images could contain transparency (where diff images\n",
       "                // almost always do), so we need to clear the canvas so that\n",
       "                // there is no ghosting.\n",
       "                fig.context.clearRect(0, 0, fig.canvas.width, fig.canvas.height);\n",
       "            }\n",
       "            fig.context.drawImage(fig.imageObj, 0, 0);\n",
       "        };\n",
       "\n",
       "    this.imageObj.onunload = function() {\n",
       "        this.ws.close();\n",
       "    }\n",
       "\n",
       "    this.ws.onmessage = this._make_on_message_function(this);\n",
       "\n",
       "    this.ondownload = ondownload;\n",
       "}\n",
       "\n",
       "mpl.figure.prototype._init_header = function() {\n",
       "    var titlebar = $(\n",
       "        '<div class=\"ui-dialog-titlebar ui-widget-header ui-corner-all ' +\n",
       "        'ui-helper-clearfix\"/>');\n",
       "    var titletext = $(\n",
       "        '<div class=\"ui-dialog-title\" style=\"width: 100%; ' +\n",
       "        'text-align: center; padding: 3px;\"/>');\n",
       "    titlebar.append(titletext)\n",
       "    this.root.append(titlebar);\n",
       "    this.header = titletext[0];\n",
       "}\n",
       "\n",
       "\n",
       "\n",
       "mpl.figure.prototype._canvas_extra_style = function(canvas_div) {\n",
       "\n",
       "}\n",
       "\n",
       "\n",
       "mpl.figure.prototype._root_extra_style = function(canvas_div) {\n",
       "\n",
       "}\n",
       "\n",
       "mpl.figure.prototype._init_canvas = function() {\n",
       "    var fig = this;\n",
       "\n",
       "    var canvas_div = $('<div/>');\n",
       "\n",
       "    canvas_div.attr('style', 'position: relative; clear: both; outline: 0');\n",
       "\n",
       "    function canvas_keyboard_event(event) {\n",
       "        return fig.key_event(event, event['data']);\n",
       "    }\n",
       "\n",
       "    canvas_div.keydown('key_press', canvas_keyboard_event);\n",
       "    canvas_div.keyup('key_release', canvas_keyboard_event);\n",
       "    this.canvas_div = canvas_div\n",
       "    this._canvas_extra_style(canvas_div)\n",
       "    this.root.append(canvas_div);\n",
       "\n",
       "    var canvas = $('<canvas/>');\n",
       "    canvas.addClass('mpl-canvas');\n",
       "    canvas.attr('style', \"left: 0; top: 0; z-index: 0; outline: 0\")\n",
       "\n",
       "    this.canvas = canvas[0];\n",
       "    this.context = canvas[0].getContext(\"2d\");\n",
       "\n",
       "    var backingStore = this.context.backingStorePixelRatio ||\n",
       "\tthis.context.webkitBackingStorePixelRatio ||\n",
       "\tthis.context.mozBackingStorePixelRatio ||\n",
       "\tthis.context.msBackingStorePixelRatio ||\n",
       "\tthis.context.oBackingStorePixelRatio ||\n",
       "\tthis.context.backingStorePixelRatio || 1;\n",
       "\n",
       "    mpl.ratio = (window.devicePixelRatio || 1) / backingStore;\n",
       "\n",
       "    var rubberband = $('<canvas/>');\n",
       "    rubberband.attr('style', \"position: absolute; left: 0; top: 0; z-index: 1;\")\n",
       "\n",
       "    var pass_mouse_events = true;\n",
       "\n",
       "    canvas_div.resizable({\n",
       "        start: function(event, ui) {\n",
       "            pass_mouse_events = false;\n",
       "        },\n",
       "        resize: function(event, ui) {\n",
       "            fig.request_resize(ui.size.width, ui.size.height);\n",
       "        },\n",
       "        stop: function(event, ui) {\n",
       "            pass_mouse_events = true;\n",
       "            fig.request_resize(ui.size.width, ui.size.height);\n",
       "        },\n",
       "    });\n",
       "\n",
       "    function mouse_event_fn(event) {\n",
       "        if (pass_mouse_events)\n",
       "            return fig.mouse_event(event, event['data']);\n",
       "    }\n",
       "\n",
       "    rubberband.mousedown('button_press', mouse_event_fn);\n",
       "    rubberband.mouseup('button_release', mouse_event_fn);\n",
       "    // Throttle sequential mouse events to 1 every 20ms.\n",
       "    rubberband.mousemove('motion_notify', mouse_event_fn);\n",
       "\n",
       "    rubberband.mouseenter('figure_enter', mouse_event_fn);\n",
       "    rubberband.mouseleave('figure_leave', mouse_event_fn);\n",
       "\n",
       "    canvas_div.on(\"wheel\", function (event) {\n",
       "        event = event.originalEvent;\n",
       "        event['data'] = 'scroll'\n",
       "        if (event.deltaY < 0) {\n",
       "            event.step = 1;\n",
       "        } else {\n",
       "            event.step = -1;\n",
       "        }\n",
       "        mouse_event_fn(event);\n",
       "    });\n",
       "\n",
       "    canvas_div.append(canvas);\n",
       "    canvas_div.append(rubberband);\n",
       "\n",
       "    this.rubberband = rubberband;\n",
       "    this.rubberband_canvas = rubberband[0];\n",
       "    this.rubberband_context = rubberband[0].getContext(\"2d\");\n",
       "    this.rubberband_context.strokeStyle = \"#000000\";\n",
       "\n",
       "    this._resize_canvas = function(width, height) {\n",
       "        // Keep the size of the canvas, canvas container, and rubber band\n",
       "        // canvas in synch.\n",
       "        canvas_div.css('width', width)\n",
       "        canvas_div.css('height', height)\n",
       "\n",
       "        canvas.attr('width', width * mpl.ratio);\n",
       "        canvas.attr('height', height * mpl.ratio);\n",
       "        canvas.attr('style', 'width: ' + width + 'px; height: ' + height + 'px;');\n",
       "\n",
       "        rubberband.attr('width', width);\n",
       "        rubberband.attr('height', height);\n",
       "    }\n",
       "\n",
       "    // Set the figure to an initial 600x600px, this will subsequently be updated\n",
       "    // upon first draw.\n",
       "    this._resize_canvas(600, 600);\n",
       "\n",
       "    // Disable right mouse context menu.\n",
       "    $(this.rubberband_canvas).bind(\"contextmenu\",function(e){\n",
       "        return false;\n",
       "    });\n",
       "\n",
       "    function set_focus () {\n",
       "        canvas.focus();\n",
       "        canvas_div.focus();\n",
       "    }\n",
       "\n",
       "    window.setTimeout(set_focus, 100);\n",
       "}\n",
       "\n",
       "mpl.figure.prototype._init_toolbar = function() {\n",
       "    var fig = this;\n",
       "\n",
       "    var nav_element = $('<div/>')\n",
       "    nav_element.attr('style', 'width: 100%');\n",
       "    this.root.append(nav_element);\n",
       "\n",
       "    // Define a callback function for later on.\n",
       "    function toolbar_event(event) {\n",
       "        return fig.toolbar_button_onclick(event['data']);\n",
       "    }\n",
       "    function toolbar_mouse_event(event) {\n",
       "        return fig.toolbar_button_onmouseover(event['data']);\n",
       "    }\n",
       "\n",
       "    for(var toolbar_ind in mpl.toolbar_items) {\n",
       "        var name = mpl.toolbar_items[toolbar_ind][0];\n",
       "        var tooltip = mpl.toolbar_items[toolbar_ind][1];\n",
       "        var image = mpl.toolbar_items[toolbar_ind][2];\n",
       "        var method_name = mpl.toolbar_items[toolbar_ind][3];\n",
       "\n",
       "        if (!name) {\n",
       "            // put a spacer in here.\n",
       "            continue;\n",
       "        }\n",
       "        var button = $('<button/>');\n",
       "        button.addClass('ui-button ui-widget ui-state-default ui-corner-all ' +\n",
       "                        'ui-button-icon-only');\n",
       "        button.attr('role', 'button');\n",
       "        button.attr('aria-disabled', 'false');\n",
       "        button.click(method_name, toolbar_event);\n",
       "        button.mouseover(tooltip, toolbar_mouse_event);\n",
       "\n",
       "        var icon_img = $('<span/>');\n",
       "        icon_img.addClass('ui-button-icon-primary ui-icon');\n",
       "        icon_img.addClass(image);\n",
       "        icon_img.addClass('ui-corner-all');\n",
       "\n",
       "        var tooltip_span = $('<span/>');\n",
       "        tooltip_span.addClass('ui-button-text');\n",
       "        tooltip_span.html(tooltip);\n",
       "\n",
       "        button.append(icon_img);\n",
       "        button.append(tooltip_span);\n",
       "\n",
       "        nav_element.append(button);\n",
       "    }\n",
       "\n",
       "    var fmt_picker_span = $('<span/>');\n",
       "\n",
       "    var fmt_picker = $('<select/>');\n",
       "    fmt_picker.addClass('mpl-toolbar-option ui-widget ui-widget-content');\n",
       "    fmt_picker_span.append(fmt_picker);\n",
       "    nav_element.append(fmt_picker_span);\n",
       "    this.format_dropdown = fmt_picker[0];\n",
       "\n",
       "    for (var ind in mpl.extensions) {\n",
       "        var fmt = mpl.extensions[ind];\n",
       "        var option = $(\n",
       "            '<option/>', {selected: fmt === mpl.default_extension}).html(fmt);\n",
       "        fmt_picker.append(option)\n",
       "    }\n",
       "\n",
       "    // Add hover states to the ui-buttons\n",
       "    $( \".ui-button\" ).hover(\n",
       "        function() { $(this).addClass(\"ui-state-hover\");},\n",
       "        function() { $(this).removeClass(\"ui-state-hover\");}\n",
       "    );\n",
       "\n",
       "    var status_bar = $('<span class=\"mpl-message\"/>');\n",
       "    nav_element.append(status_bar);\n",
       "    this.message = status_bar[0];\n",
       "}\n",
       "\n",
       "mpl.figure.prototype.request_resize = function(x_pixels, y_pixels) {\n",
       "    // Request matplotlib to resize the figure. Matplotlib will then trigger a resize in the client,\n",
       "    // which will in turn request a refresh of the image.\n",
       "    this.send_message('resize', {'width': x_pixels, 'height': y_pixels});\n",
       "}\n",
       "\n",
       "mpl.figure.prototype.send_message = function(type, properties) {\n",
       "    properties['type'] = type;\n",
       "    properties['figure_id'] = this.id;\n",
       "    this.ws.send(JSON.stringify(properties));\n",
       "}\n",
       "\n",
       "mpl.figure.prototype.send_draw_message = function() {\n",
       "    if (!this.waiting) {\n",
       "        this.waiting = true;\n",
       "        this.ws.send(JSON.stringify({type: \"draw\", figure_id: this.id}));\n",
       "    }\n",
       "}\n",
       "\n",
       "\n",
       "mpl.figure.prototype.handle_save = function(fig, msg) {\n",
       "    var format_dropdown = fig.format_dropdown;\n",
       "    var format = format_dropdown.options[format_dropdown.selectedIndex].value;\n",
       "    fig.ondownload(fig, format);\n",
       "}\n",
       "\n",
       "\n",
       "mpl.figure.prototype.handle_resize = function(fig, msg) {\n",
       "    var size = msg['size'];\n",
       "    if (size[0] != fig.canvas.width || size[1] != fig.canvas.height) {\n",
       "        fig._resize_canvas(size[0], size[1]);\n",
       "        fig.send_message(\"refresh\", {});\n",
       "    };\n",
       "}\n",
       "\n",
       "mpl.figure.prototype.handle_rubberband = function(fig, msg) {\n",
       "    var x0 = msg['x0'] / mpl.ratio;\n",
       "    var y0 = (fig.canvas.height - msg['y0']) / mpl.ratio;\n",
       "    var x1 = msg['x1'] / mpl.ratio;\n",
       "    var y1 = (fig.canvas.height - msg['y1']) / mpl.ratio;\n",
       "    x0 = Math.floor(x0) + 0.5;\n",
       "    y0 = Math.floor(y0) + 0.5;\n",
       "    x1 = Math.floor(x1) + 0.5;\n",
       "    y1 = Math.floor(y1) + 0.5;\n",
       "    var min_x = Math.min(x0, x1);\n",
       "    var min_y = Math.min(y0, y1);\n",
       "    var width = Math.abs(x1 - x0);\n",
       "    var height = Math.abs(y1 - y0);\n",
       "\n",
       "    fig.rubberband_context.clearRect(\n",
       "        0, 0, fig.canvas.width, fig.canvas.height);\n",
       "\n",
       "    fig.rubberband_context.strokeRect(min_x, min_y, width, height);\n",
       "}\n",
       "\n",
       "mpl.figure.prototype.handle_figure_label = function(fig, msg) {\n",
       "    // Updates the figure title.\n",
       "    fig.header.textContent = msg['label'];\n",
       "}\n",
       "\n",
       "mpl.figure.prototype.handle_cursor = function(fig, msg) {\n",
       "    var cursor = msg['cursor'];\n",
       "    switch(cursor)\n",
       "    {\n",
       "    case 0:\n",
       "        cursor = 'pointer';\n",
       "        break;\n",
       "    case 1:\n",
       "        cursor = 'default';\n",
       "        break;\n",
       "    case 2:\n",
       "        cursor = 'crosshair';\n",
       "        break;\n",
       "    case 3:\n",
       "        cursor = 'move';\n",
       "        break;\n",
       "    }\n",
       "    fig.rubberband_canvas.style.cursor = cursor;\n",
       "}\n",
       "\n",
       "mpl.figure.prototype.handle_message = function(fig, msg) {\n",
       "    fig.message.textContent = msg['message'];\n",
       "}\n",
       "\n",
       "mpl.figure.prototype.handle_draw = function(fig, msg) {\n",
       "    // Request the server to send over a new figure.\n",
       "    fig.send_draw_message();\n",
       "}\n",
       "\n",
       "mpl.figure.prototype.handle_image_mode = function(fig, msg) {\n",
       "    fig.image_mode = msg['mode'];\n",
       "}\n",
       "\n",
       "mpl.figure.prototype.updated_canvas_event = function() {\n",
       "    // Called whenever the canvas gets updated.\n",
       "    this.send_message(\"ack\", {});\n",
       "}\n",
       "\n",
       "// A function to construct a web socket function for onmessage handling.\n",
       "// Called in the figure constructor.\n",
       "mpl.figure.prototype._make_on_message_function = function(fig) {\n",
       "    return function socket_on_message(evt) {\n",
       "        if (evt.data instanceof Blob) {\n",
       "            /* FIXME: We get \"Resource interpreted as Image but\n",
       "             * transferred with MIME type text/plain:\" errors on\n",
       "             * Chrome.  But how to set the MIME type?  It doesn't seem\n",
       "             * to be part of the websocket stream */\n",
       "            evt.data.type = \"image/png\";\n",
       "\n",
       "            /* Free the memory for the previous frames */\n",
       "            if (fig.imageObj.src) {\n",
       "                (window.URL || window.webkitURL).revokeObjectURL(\n",
       "                    fig.imageObj.src);\n",
       "            }\n",
       "\n",
       "            fig.imageObj.src = (window.URL || window.webkitURL).createObjectURL(\n",
       "                evt.data);\n",
       "            fig.updated_canvas_event();\n",
       "            fig.waiting = false;\n",
       "            return;\n",
       "        }\n",
       "        else if (typeof evt.data === 'string' && evt.data.slice(0, 21) == \"data:image/png;base64\") {\n",
       "            fig.imageObj.src = evt.data;\n",
       "            fig.updated_canvas_event();\n",
       "            fig.waiting = false;\n",
       "            return;\n",
       "        }\n",
       "\n",
       "        var msg = JSON.parse(evt.data);\n",
       "        var msg_type = msg['type'];\n",
       "\n",
       "        // Call the  \"handle_{type}\" callback, which takes\n",
       "        // the figure and JSON message as its only arguments.\n",
       "        try {\n",
       "            var callback = fig[\"handle_\" + msg_type];\n",
       "        } catch (e) {\n",
       "            console.log(\"No handler for the '\" + msg_type + \"' message type: \", msg);\n",
       "            return;\n",
       "        }\n",
       "\n",
       "        if (callback) {\n",
       "            try {\n",
       "                // console.log(\"Handling '\" + msg_type + \"' message: \", msg);\n",
       "                callback(fig, msg);\n",
       "            } catch (e) {\n",
       "                console.log(\"Exception inside the 'handler_\" + msg_type + \"' callback:\", e, e.stack, msg);\n",
       "            }\n",
       "        }\n",
       "    };\n",
       "}\n",
       "\n",
       "// from http://stackoverflow.com/questions/1114465/getting-mouse-location-in-canvas\n",
       "mpl.findpos = function(e) {\n",
       "    //this section is from http://www.quirksmode.org/js/events_properties.html\n",
       "    var targ;\n",
       "    if (!e)\n",
       "        e = window.event;\n",
       "    if (e.target)\n",
       "        targ = e.target;\n",
       "    else if (e.srcElement)\n",
       "        targ = e.srcElement;\n",
       "    if (targ.nodeType == 3) // defeat Safari bug\n",
       "        targ = targ.parentNode;\n",
       "\n",
       "    // jQuery normalizes the pageX and pageY\n",
       "    // pageX,Y are the mouse positions relative to the document\n",
       "    // offset() returns the position of the element relative to the document\n",
       "    var x = e.pageX - $(targ).offset().left;\n",
       "    var y = e.pageY - $(targ).offset().top;\n",
       "\n",
       "    return {\"x\": x, \"y\": y};\n",
       "};\n",
       "\n",
       "/*\n",
       " * return a copy of an object with only non-object keys\n",
       " * we need this to avoid circular references\n",
       " * http://stackoverflow.com/a/24161582/3208463\n",
       " */\n",
       "function simpleKeys (original) {\n",
       "  return Object.keys(original).reduce(function (obj, key) {\n",
       "    if (typeof original[key] !== 'object')\n",
       "        obj[key] = original[key]\n",
       "    return obj;\n",
       "  }, {});\n",
       "}\n",
       "\n",
       "mpl.figure.prototype.mouse_event = function(event, name) {\n",
       "    var canvas_pos = mpl.findpos(event)\n",
       "\n",
       "    if (name === 'button_press')\n",
       "    {\n",
       "        this.canvas.focus();\n",
       "        this.canvas_div.focus();\n",
       "    }\n",
       "\n",
       "    var x = canvas_pos.x * mpl.ratio;\n",
       "    var y = canvas_pos.y * mpl.ratio;\n",
       "\n",
       "    this.send_message(name, {x: x, y: y, button: event.button,\n",
       "                             step: event.step,\n",
       "                             guiEvent: simpleKeys(event)});\n",
       "\n",
       "    /* This prevents the web browser from automatically changing to\n",
       "     * the text insertion cursor when the button is pressed.  We want\n",
       "     * to control all of the cursor setting manually through the\n",
       "     * 'cursor' event from matplotlib */\n",
       "    event.preventDefault();\n",
       "    return false;\n",
       "}\n",
       "\n",
       "mpl.figure.prototype._key_event_extra = function(event, name) {\n",
       "    // Handle any extra behaviour associated with a key event\n",
       "}\n",
       "\n",
       "mpl.figure.prototype.key_event = function(event, name) {\n",
       "\n",
       "    // Prevent repeat events\n",
       "    if (name == 'key_press')\n",
       "    {\n",
       "        if (event.which === this._key)\n",
       "            return;\n",
       "        else\n",
       "            this._key = event.which;\n",
       "    }\n",
       "    if (name == 'key_release')\n",
       "        this._key = null;\n",
       "\n",
       "    var value = '';\n",
       "    if (event.ctrlKey && event.which != 17)\n",
       "        value += \"ctrl+\";\n",
       "    if (event.altKey && event.which != 18)\n",
       "        value += \"alt+\";\n",
       "    if (event.shiftKey && event.which != 16)\n",
       "        value += \"shift+\";\n",
       "\n",
       "    value += 'k';\n",
       "    value += event.which.toString();\n",
       "\n",
       "    this._key_event_extra(event, name);\n",
       "\n",
       "    this.send_message(name, {key: value,\n",
       "                             guiEvent: simpleKeys(event)});\n",
       "    return false;\n",
       "}\n",
       "\n",
       "mpl.figure.prototype.toolbar_button_onclick = function(name) {\n",
       "    if (name == 'download') {\n",
       "        this.handle_save(this, null);\n",
       "    } else {\n",
       "        this.send_message(\"toolbar_button\", {name: name});\n",
       "    }\n",
       "};\n",
       "\n",
       "mpl.figure.prototype.toolbar_button_onmouseover = function(tooltip) {\n",
       "    this.message.textContent = tooltip;\n",
       "};\n",
       "mpl.toolbar_items = [[\"Home\", \"Reset original view\", \"fa fa-home icon-home\", \"home\"], [\"Back\", \"Back to  previous view\", \"fa fa-arrow-left icon-arrow-left\", \"back\"], [\"Forward\", \"Forward to next view\", \"fa fa-arrow-right icon-arrow-right\", \"forward\"], [\"\", \"\", \"\", \"\"], [\"Pan\", \"Pan axes with left mouse, zoom with right\", \"fa fa-arrows icon-move\", \"pan\"], [\"Zoom\", \"Zoom to rectangle\", \"fa fa-square-o icon-check-empty\", \"zoom\"], [\"\", \"\", \"\", \"\"], [\"Download\", \"Download plot\", \"fa fa-floppy-o icon-save\", \"download\"]];\n",
       "\n",
       "mpl.extensions = [\"eps\", \"jpeg\", \"pdf\", \"png\", \"ps\", \"raw\", \"svg\", \"tif\"];\n",
       "\n",
       "mpl.default_extension = \"png\";var comm_websocket_adapter = function(comm) {\n",
       "    // Create a \"websocket\"-like object which calls the given IPython comm\n",
       "    // object with the appropriate methods. Currently this is a non binary\n",
       "    // socket, so there is still some room for performance tuning.\n",
       "    var ws = {};\n",
       "\n",
       "    ws.close = function() {\n",
       "        comm.close()\n",
       "    };\n",
       "    ws.send = function(m) {\n",
       "        //console.log('sending', m);\n",
       "        comm.send(m);\n",
       "    };\n",
       "    // Register the callback with on_msg.\n",
       "    comm.on_msg(function(msg) {\n",
       "        //console.log('receiving', msg['content']['data'], msg);\n",
       "        // Pass the mpl event to the overriden (by mpl) onmessage function.\n",
       "        ws.onmessage(msg['content']['data'])\n",
       "    });\n",
       "    return ws;\n",
       "}\n",
       "\n",
       "mpl.mpl_figure_comm = function(comm, msg) {\n",
       "    // This is the function which gets called when the mpl process\n",
       "    // starts-up an IPython Comm through the \"matplotlib\" channel.\n",
       "\n",
       "    var id = msg.content.data.id;\n",
       "    // Get hold of the div created by the display call when the Comm\n",
       "    // socket was opened in Python.\n",
       "    var element = $(\"#\" + id);\n",
       "    var ws_proxy = comm_websocket_adapter(comm)\n",
       "\n",
       "    function ondownload(figure, format) {\n",
       "        window.open(figure.imageObj.src);\n",
       "    }\n",
       "\n",
       "    var fig = new mpl.figure(id, ws_proxy,\n",
       "                           ondownload,\n",
       "                           element.get(0));\n",
       "\n",
       "    // Call onopen now - mpl needs it, as it is assuming we've passed it a real\n",
       "    // web socket which is closed, not our websocket->open comm proxy.\n",
       "    ws_proxy.onopen();\n",
       "\n",
       "    fig.parent_element = element.get(0);\n",
       "    fig.cell_info = mpl.find_output_cell(\"<div id='\" + id + \"'></div>\");\n",
       "    if (!fig.cell_info) {\n",
       "        console.error(\"Failed to find cell for figure\", id, fig);\n",
       "        return;\n",
       "    }\n",
       "\n",
       "    var output_index = fig.cell_info[2]\n",
       "    var cell = fig.cell_info[0];\n",
       "\n",
       "};\n",
       "\n",
       "mpl.figure.prototype.handle_close = function(fig, msg) {\n",
       "    var width = fig.canvas.width/mpl.ratio\n",
       "    fig.root.unbind('remove')\n",
       "\n",
       "    // Update the output cell to use the data from the current canvas.\n",
       "    fig.push_to_output();\n",
       "    var dataURL = fig.canvas.toDataURL();\n",
       "    // Re-enable the keyboard manager in IPython - without this line, in FF,\n",
       "    // the notebook keyboard shortcuts fail.\n",
       "    IPython.keyboard_manager.enable()\n",
       "    $(fig.parent_element).html('<img src=\"' + dataURL + '\" width=\"' + width + '\">');\n",
       "    fig.close_ws(fig, msg);\n",
       "}\n",
       "\n",
       "mpl.figure.prototype.close_ws = function(fig, msg){\n",
       "    fig.send_message('closing', msg);\n",
       "    // fig.ws.close()\n",
       "}\n",
       "\n",
       "mpl.figure.prototype.push_to_output = function(remove_interactive) {\n",
       "    // Turn the data on the canvas into data in the output cell.\n",
       "    var width = this.canvas.width/mpl.ratio\n",
       "    var dataURL = this.canvas.toDataURL();\n",
       "    this.cell_info[1]['text/html'] = '<img src=\"' + dataURL + '\" width=\"' + width + '\">';\n",
       "}\n",
       "\n",
       "mpl.figure.prototype.updated_canvas_event = function() {\n",
       "    // Tell IPython that the notebook contents must change.\n",
       "    IPython.notebook.set_dirty(true);\n",
       "    this.send_message(\"ack\", {});\n",
       "    var fig = this;\n",
       "    // Wait a second, then push the new image to the DOM so\n",
       "    // that it is saved nicely (might be nice to debounce this).\n",
       "    setTimeout(function () { fig.push_to_output() }, 1000);\n",
       "}\n",
       "\n",
       "mpl.figure.prototype._init_toolbar = function() {\n",
       "    var fig = this;\n",
       "\n",
       "    var nav_element = $('<div/>')\n",
       "    nav_element.attr('style', 'width: 100%');\n",
       "    this.root.append(nav_element);\n",
       "\n",
       "    // Define a callback function for later on.\n",
       "    function toolbar_event(event) {\n",
       "        return fig.toolbar_button_onclick(event['data']);\n",
       "    }\n",
       "    function toolbar_mouse_event(event) {\n",
       "        return fig.toolbar_button_onmouseover(event['data']);\n",
       "    }\n",
       "\n",
       "    for(var toolbar_ind in mpl.toolbar_items){\n",
       "        var name = mpl.toolbar_items[toolbar_ind][0];\n",
       "        var tooltip = mpl.toolbar_items[toolbar_ind][1];\n",
       "        var image = mpl.toolbar_items[toolbar_ind][2];\n",
       "        var method_name = mpl.toolbar_items[toolbar_ind][3];\n",
       "\n",
       "        if (!name) { continue; };\n",
       "\n",
       "        var button = $('<button class=\"btn btn-default\" href=\"#\" title=\"' + name + '\"><i class=\"fa ' + image + ' fa-lg\"></i></button>');\n",
       "        button.click(method_name, toolbar_event);\n",
       "        button.mouseover(tooltip, toolbar_mouse_event);\n",
       "        nav_element.append(button);\n",
       "    }\n",
       "\n",
       "    // Add the status bar.\n",
       "    var status_bar = $('<span class=\"mpl-message\" style=\"text-align:right; float: right;\"/>');\n",
       "    nav_element.append(status_bar);\n",
       "    this.message = status_bar[0];\n",
       "\n",
       "    // Add the close button to the window.\n",
       "    var buttongrp = $('<div class=\"btn-group inline pull-right\"></div>');\n",
       "    var button = $('<button class=\"btn btn-mini btn-primary\" href=\"#\" title=\"Stop Interaction\"><i class=\"fa fa-power-off icon-remove icon-large\"></i></button>');\n",
       "    button.click(function (evt) { fig.handle_close(fig, {}); } );\n",
       "    button.mouseover('Stop Interaction', toolbar_mouse_event);\n",
       "    buttongrp.append(button);\n",
       "    var titlebar = this.root.find($('.ui-dialog-titlebar'));\n",
       "    titlebar.prepend(buttongrp);\n",
       "}\n",
       "\n",
       "mpl.figure.prototype._root_extra_style = function(el){\n",
       "    var fig = this\n",
       "    el.on(\"remove\", function(){\n",
       "\tfig.close_ws(fig, {});\n",
       "    });\n",
       "}\n",
       "\n",
       "mpl.figure.prototype._canvas_extra_style = function(el){\n",
       "    // this is important to make the div 'focusable\n",
       "    el.attr('tabindex', 0)\n",
       "    // reach out to IPython and tell the keyboard manager to turn it's self\n",
       "    // off when our div gets focus\n",
       "\n",
       "    // location in version 3\n",
       "    if (IPython.notebook.keyboard_manager) {\n",
       "        IPython.notebook.keyboard_manager.register_events(el);\n",
       "    }\n",
       "    else {\n",
       "        // location in version 2\n",
       "        IPython.keyboard_manager.register_events(el);\n",
       "    }\n",
       "\n",
       "}\n",
       "\n",
       "mpl.figure.prototype._key_event_extra = function(event, name) {\n",
       "    var manager = IPython.notebook.keyboard_manager;\n",
       "    if (!manager)\n",
       "        manager = IPython.keyboard_manager;\n",
       "\n",
       "    // Check for shift+enter\n",
       "    if (event.shiftKey && event.which == 13) {\n",
       "        this.canvas_div.blur();\n",
       "        // select the cell after this one\n",
       "        var index = IPython.notebook.find_cell_index(this.cell_info[0]);\n",
       "        IPython.notebook.select(index + 1);\n",
       "    }\n",
       "}\n",
       "\n",
       "mpl.figure.prototype.handle_save = function(fig, msg) {\n",
       "    fig.ondownload(fig, null);\n",
       "}\n",
       "\n",
       "\n",
       "mpl.find_output_cell = function(html_output) {\n",
       "    // Return the cell and output element which can be found *uniquely* in the notebook.\n",
       "    // Note - this is a bit hacky, but it is done because the \"notebook_saving.Notebook\"\n",
       "    // IPython event is triggered only after the cells have been serialised, which for\n",
       "    // our purposes (turning an active figure into a static one), is too late.\n",
       "    var cells = IPython.notebook.get_cells();\n",
       "    var ncells = cells.length;\n",
       "    for (var i=0; i<ncells; i++) {\n",
       "        var cell = cells[i];\n",
       "        if (cell.cell_type === 'code'){\n",
       "            for (var j=0; j<cell.output_area.outputs.length; j++) {\n",
       "                var data = cell.output_area.outputs[j];\n",
       "                if (data.data) {\n",
       "                    // IPython >= 3 moved mimebundle to data attribute of output\n",
       "                    data = data.data;\n",
       "                }\n",
       "                if (data['text/html'] == html_output) {\n",
       "                    return [cell, data, j];\n",
       "                }\n",
       "            }\n",
       "        }\n",
       "    }\n",
       "}\n",
       "\n",
       "// Register the function which deals with the matplotlib target/channel.\n",
       "// The kernel may be null if the page has been refreshed.\n",
       "if (IPython.notebook.kernel != null) {\n",
       "    IPython.notebook.kernel.comm_manager.register_target('matplotlib', mpl.mpl_figure_comm);\n",
       "}\n"
      ],
      "text/plain": [
       "<IPython.core.display.Javascript object>"
      ]
     },
     "metadata": {},
     "output_type": "display_data"
    },
    {
     "data": {
      "text/html": [
       "<img src=\"data:image/png;base64,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\" width=\"640\">"
      ],
      "text/plain": [
       "<IPython.core.display.HTML object>"
      ]
     },
     "metadata": {},
     "output_type": "display_data"
    },
    {
     "data": {
      "text/plain": [
       "[<matplotlib.lines.Line2D at 0x1a94b322748>]"
      ]
     },
     "execution_count": 117,
     "metadata": {},
     "output_type": "execute_result"
    }
   ],
   "source": [
    "# Para que las gráficas se muestren sobre el propio notebook, en lugar de en una ventana, hay que escribir:\n",
    "%matplotlib notebook    \n",
    "\n",
    "from matplotlib import pyplot  # pyplot es el módulo que permite dibujar gráficas matemáticas\n",
    "\n",
    "x=[]   # \"x\" es una lista vacía, es decir, aún no contiene elementos\n",
    "y=[]   # \"y\" también es una lista vacía\n",
    "for i in range(20):\n",
    "    x.append(randint(-50,50))\n",
    "    y.append(randint(-50,50))\n",
    "\n",
    "# El tercer parámetro sirve para especificar el formato de la representación gráfica de los datos\n",
    "pyplot.plot(x,y,\"o\")    "
   ]
  },
  {
   "cell_type": "markdown",
   "metadata": {},
   "source": [
    "Todos los paquetes, módulos y librerías más usados están ampliamente documentados en Internet: sólo tienes que hacer una consulta a tu buscador favorito. Por ejemplo, si quieres ver qué otras cosas se pueden hacer con la función *plot*, puedes verlo aquí: https://matplotlib.org/api/pyplot_api.html#matplotlib.pyplot.plot"
   ]
  },
  {
   "cell_type": "markdown",
   "metadata": {},
   "source": [
    "### ¡Prueba tú!"
   ]
  },
  {
   "cell_type": "markdown",
   "metadata": {},
   "source": [
    "Intenta completar el siguiente código para mostrar una gráfica de la función coseno para los valores de la x contenidos en el intervalo \\[-10,10\\]. Busca documentación sobre el módulo **math** para ver cómo calcular el coseno de un número [prueba buscando en Google \"math Python 3\"](https://www.google.es/search?q=math+Python+3)."
   ]
  },
  {
   "cell_type": "code",
   "execution_count": 118,
   "metadata": {
    "collapsed": false
   },
   "outputs": [],
   "source": [
    "%matplotlib notebook    \n",
    "import math\n",
    "\n",
    "lista_x=[]  # En esta lista guardaremos los valores para los que vamos a calcular el coseno\n",
    "for i in range(-100,101):\n",
    "    # Escribe una instrucción para \"añadir a lista_x el valor i/10\"\n",
    "\n",
    "lista_y=[]  # En esta lista guardaremos los cosenos de los valores anteriores\n",
    "for x in lista_x:\n",
    "    # Escribe una instrucción para \"añadir a lista_y el valor coseno(x)\"\n",
    "    pass\n",
    "# Escribe una instrucción para dibujar la gráfica correspondiente a las coordenadas lista_x y lista_y.\n",
    "# Elige las opciones de formato de la representación gráfica que quieras\n",
    "\n",
    "\n",
    "\n"
   ]
  },
  {
   "cell_type": "markdown",
   "metadata": {
    "collapsed": true
   },
   "source": [
    "Cuando construimos una lista a partir de otra, como ocurre con *lista_y* en el código que acabas de completar, podemos hacerlo de una forma muy compacta llamada **definición de listas por comprensión**. Observa el siguiente ejemplo:"
   ]
  },
  {
   "cell_type": "code",
   "execution_count": 119,
   "metadata": {
    "collapsed": false
   },
   "outputs": [
    {
     "name": "stdout",
     "output_type": "stream",
     "text": [
      "[-0.8390715290764524, -0.8891911526253609, -0.9304262721047533, -0.9623648798313102, -0.984687855794127, -0.9971721561963784, -0.9996930420352065, -0.9922253254526034, -0.9748436214041636, -0.9477216021311119, -0.9111302618846769, -0.8654352092411123, -0.811093014061656, -0.7486466455973987, -0.6787200473200125, -0.6020119026848236, -0.5192886541166856, -0.4313768449706208, -0.3391548609838345, -0.2435441537357911, -0.14550003380861354, -0.04600212563953695, 0.05395542056264975, 0.15337386203786435, 0.2512598425822557, 0.3466353178350258, 0.43854732757439036, 0.5260775173811053, 0.6083513145322546, 0.6845466664428066, 0.7539022543433046, 0.8157251001253568, 0.8693974903498253, 0.9143831482353194, 0.9502325919585296, 0.9765876257280235, 0.9931849187581926, 0.9998586363834151, 0.9965420970232175, 0.9832684384425845, 0.960170286650366, 0.9274784307440359, 0.8855195169413189, 0.8347127848391598, 0.7755658785102496, 0.70866977429126, 0.6346928759426347, 0.5543743361791608, 0.4685166713003771, 0.37797774271298024, 0.28366218546322625, 0.18651236942257576, 0.0874989834394464, -0.01238866346289056, -0.11215252693505487, -0.2107957994307797, -0.30733286997841935, -0.40079917207997545, -0.4902608213406994, -0.5748239465332692, -0.6536436208636119, -0.7259323042001402, -0.7909677119144168, -0.848100031710408, -0.896758416334147, -0.9364566872907963, -0.9667981925794611, -0.9874797699088649, -0.9982947757947531, -0.9991351502732795, -0.9899924966004454, -0.9709581651495905, -0.9422223406686581, -0.9040721420170612, -0.8568887533689473, -0.8011436155469337, -0.7373937155412454, -0.6662760212798241, -0.5885011172553458, -0.5048461045998576, -0.4161468365471424, -0.32328956686350335, -0.2272020946930871, -0.12884449429552464, -0.029199522301288815, 0.0707372016677029, 0.16996714290024104, 0.26749882862458735, 0.3623577544766736, 0.4535961214255773, 0.5403023058681397, 0.6216099682706644, 0.6967067093471654, 0.7648421872844885, 0.8253356149096783, 0.8775825618903728, 0.9210609940028851, 0.955336489125606, 0.9800665778412416, 0.9950041652780258, 1.0, 0.9950041652780258, 0.9800665778412416, 0.955336489125606, 0.9210609940028851, 0.8775825618903728, 0.8253356149096783, 0.7648421872844885, 0.6967067093471654, 0.6216099682706644, 0.5403023058681397, 0.4535961214255773, 0.3623577544766736, 0.26749882862458735, 0.16996714290024104, 0.0707372016677029, -0.029199522301288815, -0.12884449429552464, -0.2272020946930871, -0.32328956686350335, -0.4161468365471424, -0.5048461045998576, -0.5885011172553458, -0.6662760212798241, -0.7373937155412454, -0.8011436155469337, -0.8568887533689473, -0.9040721420170612, -0.9422223406686581, -0.9709581651495905, -0.9899924966004454, -0.9991351502732795, -0.9982947757947531, -0.9874797699088649, -0.9667981925794611, -0.9364566872907963, -0.896758416334147, -0.848100031710408, -0.7909677119144168, -0.7259323042001402, -0.6536436208636119, -0.5748239465332692, -0.4902608213406994, -0.40079917207997545, -0.30733286997841935, -0.2107957994307797, -0.11215252693505487, -0.01238866346289056, 0.0874989834394464, 0.18651236942257576, 0.28366218546322625, 0.37797774271298024, 0.4685166713003771, 0.5543743361791608, 0.6346928759426347, 0.70866977429126, 0.7755658785102496, 0.8347127848391598, 0.8855195169413189, 0.9274784307440359, 0.960170286650366, 0.9832684384425845, 0.9965420970232175, 0.9998586363834151, 0.9931849187581926, 0.9765876257280235, 0.9502325919585296, 0.9143831482353194, 0.8693974903498253, 0.8157251001253568, 0.7539022543433046, 0.6845466664428066, 0.6083513145322546, 0.5260775173811053, 0.43854732757439036, 0.3466353178350258, 0.2512598425822557, 0.15337386203786435, 0.05395542056264975, -0.04600212563953695, -0.14550003380861354, -0.2435441537357911, -0.3391548609838345, -0.4313768449706208, -0.5192886541166856, -0.6020119026848236, -0.6787200473200125, -0.7486466455973987, -0.811093014061656, -0.8654352092411123, -0.9111302618846769, -0.9477216021311119, -0.9748436214041636, -0.9922253254526034, -0.9996930420352065, -0.9971721561963784, -0.984687855794127, -0.9623648798313102, -0.9304262721047533, -0.8891911526253609, -0.8390715290764524]\n"
     ]
    }
   ],
   "source": [
    "lista_y = [math.cos(x) for x in lista_x]\n",
    "print(lista_y)"
   ]
  },
  {
   "cell_type": "markdown",
   "metadata": {},
   "source": [
    "---\n",
    "\n",
    "Ya sabes lo básico para entender programas simples escritos en Python y para escribir los tuyos propios. **¡Feliz programación!**"
   ]
  },
  {
   "cell_type": "code",
   "execution_count": 120,
   "metadata": {
    "collapsed": false
   },
   "outputs": [
    {
     "name": "stdout",
     "output_type": "stream",
     "text": [
      "The Zen of Python, by Tim Peters\n",
      "\n",
      "Beautiful is better than ugly.\n",
      "Explicit is better than implicit.\n",
      "Simple is better than complex.\n",
      "Complex is better than complicated.\n",
      "Flat is better than nested.\n",
      "Sparse is better than dense.\n",
      "Readability counts.\n",
      "Special cases aren't special enough to break the rules.\n",
      "Although practicality beats purity.\n",
      "Errors should never pass silently.\n",
      "Unless explicitly silenced.\n",
      "In the face of ambiguity, refuse the temptation to guess.\n",
      "There should be one-- and preferably only one --obvious way to do it.\n",
      "Although that way may not be obvious at first unless you're Dutch.\n",
      "Now is better than never.\n",
      "Although never is often better than *right* now.\n",
      "If the implementation is hard to explain, it's a bad idea.\n",
      "If the implementation is easy to explain, it may be a good idea.\n",
      "Namespaces are one honking great idea -- let's do more of those!\n"
     ]
    }
   ],
   "source": [
    "# ¿Conoces el \"Zen de Python\"?\n",
    "import this"
   ]
  },
  {
   "cell_type": "code",
   "execution_count": null,
   "metadata": {
    "collapsed": true
   },
   "outputs": [],
   "source": []
  }
 ],
 "metadata": {
  "anaconda-cloud": {},
  "celltoolbar": "Raw Cell Format",
  "kernelspec": {
   "display_name": "Python [default]",
   "language": "python",
   "name": "python3"
  },
  "language_info": {
   "codemirror_mode": {
    "name": "ipython",
    "version": 3
   },
   "file_extension": ".py",
   "mimetype": "text/x-python",
   "name": "python",
   "nbconvert_exporter": "python",
   "pygments_lexer": "ipython3",
   "version": "3.5.2"
  },
  "nbpresent": {
   "slides": {
    "1390653e-bdb6-444a-b611-39c60ffb77a1": {
     "id": "1390653e-bdb6-444a-b611-39c60ffb77a1",
     "prev": "5c2c8cc8-3676-4c06-b94c-d3f866ade69b",
     "regions": {
      "620813b3-9326-41e6-9d30-f5ac4f858225": {
       "attrs": {
        "height": 0.8,
        "width": 0.8,
        "x": 0.1,
        "y": 0.1
       },
       "content": {
        "cell": "86423d42-e808-47e6-b1a7-e925e195f821",
        "part": "whole"
       },
       "id": "620813b3-9326-41e6-9d30-f5ac4f858225"
      }
     }
    },
    "21036f68-a492-4532-a832-b213435c0ad2": {
     "id": "21036f68-a492-4532-a832-b213435c0ad2",
     "prev": "2c1c7f11-e5ee-4a25-8975-f0b033ba739a",
     "regions": {
      "a3908958-0784-4faa-ac97-b9325abe8ede": {
       "attrs": {
        "height": 0.8,
        "width": 0.8,
        "x": 0.1,
        "y": 0.1
       },
       "content": {
        "cell": "9aa64747-dc13-4bd9-bf26-73606628ad1c",
        "part": "whole"
       },
       "id": "a3908958-0784-4faa-ac97-b9325abe8ede"
      }
     }
    },
    "2c1c7f11-e5ee-4a25-8975-f0b033ba739a": {
     "id": "2c1c7f11-e5ee-4a25-8975-f0b033ba739a",
     "prev": "f3f10f50-4cad-4149-b308-c66e6a493a72",
     "regions": {
      "9e2d820e-ec17-4915-b960-0e0d5f640379": {
       "attrs": {
        "height": 0.8,
        "width": 0.8,
        "x": 0.1,
        "y": 0.1
       },
       "content": {
        "cell": "0281a659-abae-4cb9-b30f-b552b9db399e",
        "part": "whole"
       },
       "id": "9e2d820e-ec17-4915-b960-0e0d5f640379"
      }
     }
    },
    "30509a9a-dbd8-4dbd-9fab-852a7266d894": {
     "id": "30509a9a-dbd8-4dbd-9fab-852a7266d894",
     "prev": "8b078b7a-c2c6-4129-a19f-2a4f5c4a26f3",
     "regions": {
      "7baa4379-8f84-4d8f-b002-5a5ffd051489": {
       "attrs": {
        "height": 0.8,
        "width": 0.8,
        "x": 0.1,
        "y": 0.1
       },
       "content": {
        "cell": "14d1a927-b37f-4323-9404-17d453f3b487",
        "part": "whole"
       },
       "id": "7baa4379-8f84-4d8f-b002-5a5ffd051489"
      }
     }
    },
    "42d1bd80-265e-4acf-bbc1-b202afddade3": {
     "id": "42d1bd80-265e-4acf-bbc1-b202afddade3",
     "prev": "9bfe6214-4631-45b5-a05e-8923f178bb57",
     "regions": {
      "f2340145-4108-4fed-a0bc-4b91ca6c10ae": {
       "attrs": {
        "height": 0.8,
        "width": 0.8,
        "x": 0.1,
        "y": 0.1
       },
       "content": {
        "cell": "80be6133-d85a-4e43-9964-6578abcbaaac",
        "part": "whole"
       },
       "id": "f2340145-4108-4fed-a0bc-4b91ca6c10ae"
      }
     }
    },
    "5c2c8cc8-3676-4c06-b94c-d3f866ade69b": {
     "id": "5c2c8cc8-3676-4c06-b94c-d3f866ade69b",
     "prev": "6c4bc874-f3fc-472c-a81c-cd415b91c24b",
     "regions": {
      "e1de7ab6-4ef2-4b14-92d7-b174bf32806e": {
       "attrs": {
        "height": 0.8,
        "width": 0.8,
        "x": 0.1,
        "y": 0.1
       },
       "content": {
        "cell": "ae8725fa-30f7-4d7f-a2c2-5f86953d730b",
        "part": "whole"
       },
       "id": "e1de7ab6-4ef2-4b14-92d7-b174bf32806e"
      }
     }
    },
    "5cab5674-74dc-4378-93d7-eaa79e90cdae": {
     "id": "5cab5674-74dc-4378-93d7-eaa79e90cdae",
     "prev": "ba274d18-2760-4e55-ad47-2727b824fd00",
     "regions": {
      "2178d7cf-bf1e-4850-95a2-1509f15febfa": {
       "attrs": {
        "height": 0.8,
        "width": 0.8,
        "x": 0.1,
        "y": 0.1
       },
       "content": {
        "cell": "5d433d13-f44a-45bb-91fd-406f60b33b67",
        "part": "whole"
       },
       "id": "2178d7cf-bf1e-4850-95a2-1509f15febfa"
      }
     }
    },
    "638df7e1-84d1-4fd4-a15c-c94b731d1bea": {
     "id": "638df7e1-84d1-4fd4-a15c-c94b731d1bea",
     "prev": "b9dddf99-da24-46e1-81d4-8ac33b6fc3a3",
     "regions": {
      "deba8b1f-d997-4426-8f1b-978df7f19b41": {
       "attrs": {
        "height": 0.8,
        "width": 0.8,
        "x": 0.1,
        "y": 0.1
       },
       "content": {
        "cell": "7adaaf8f-a83e-456b-b99a-d3b3d4cb6d1a",
        "part": "whole"
       },
       "id": "deba8b1f-d997-4426-8f1b-978df7f19b41"
      }
     }
    },
    "6bda9eb4-0724-4e53-9971-131d0cb5f9e2": {
     "id": "6bda9eb4-0724-4e53-9971-131d0cb5f9e2",
     "prev": "ee33e624-cd65-4b8c-b28b-c95623a56dbf",
     "regions": {
      "feffbbd2-27d1-4318-8359-7d57583ee2bc": {
       "attrs": {
        "height": 0.8,
        "width": 0.8,
        "x": 0.1,
        "y": 0.1
       },
       "content": {
        "cell": "8dce188c-36b7-41fa-9020-b5cb5502e452",
        "part": "whole"
       },
       "id": "feffbbd2-27d1-4318-8359-7d57583ee2bc"
      }
     }
    },
    "6c4bc874-f3fc-472c-a81c-cd415b91c24b": {
     "id": "6c4bc874-f3fc-472c-a81c-cd415b91c24b",
     "prev": null,
     "regions": {
      "c9eac7e8-d033-4b03-8bf7-abd58ffe8d41": {
       "attrs": {
        "height": 0.8,
        "width": 0.8,
        "x": 0.1,
        "y": 0.1
       },
       "content": {
        "cell": "71219fc3-c9cb-4700-9f0b-ab38b1b223da",
        "part": "whole"
       },
       "id": "c9eac7e8-d033-4b03-8bf7-abd58ffe8d41"
      }
     }
    },
    "6d7ab34f-9d99-4c74-9877-27b25abc73f0": {
     "id": "6d7ab34f-9d99-4c74-9877-27b25abc73f0",
     "prev": "febe7de9-9362-4079-bfe9-2d4dfddf00e2",
     "regions": {
      "2ee252de-db5f-43e7-b4b7-7f59bba29962": {
       "attrs": {
        "height": 0.8,
        "width": 0.8,
        "x": 0.1,
        "y": 0.1
       },
       "content": {
        "cell": "85d1ab90-cc65-4935-808b-a6f57ecc892e",
        "part": "whole"
       },
       "id": "2ee252de-db5f-43e7-b4b7-7f59bba29962"
      }
     }
    },
    "7ea582c3-439d-4ec2-9f27-dea18bcacc31": {
     "id": "7ea582c3-439d-4ec2-9f27-dea18bcacc31",
     "prev": "f0727a74-61a1-48c1-94a5-3e7490c29f0b",
     "regions": {
      "652960af-b61f-4c36-b122-3eacd714867b": {
       "attrs": {
        "height": 0.8,
        "width": 0.8,
        "x": 0.1,
        "y": 0.1
       },
       "content": {
        "cell": "86172e20-fe16-447d-859f-24a81e563011",
        "part": "whole"
       },
       "id": "652960af-b61f-4c36-b122-3eacd714867b"
      }
     }
    },
    "8b078b7a-c2c6-4129-a19f-2a4f5c4a26f3": {
     "id": "8b078b7a-c2c6-4129-a19f-2a4f5c4a26f3",
     "prev": "5cab5674-74dc-4378-93d7-eaa79e90cdae",
     "regions": {
      "dce1e605-9342-414d-b8c6-7dcb922fbf47": {
       "attrs": {
        "height": 0.8,
        "width": 0.8,
        "x": 0.1,
        "y": 0.1
       },
       "content": {
        "cell": "ee1bdf03-6e13-4f1f-9dc9-22d4e344fdba",
        "part": "whole"
       },
       "id": "dce1e605-9342-414d-b8c6-7dcb922fbf47"
      }
     }
    },
    "999513ad-b53e-4d84-b9ef-ed37967f74d6": {
     "id": "999513ad-b53e-4d84-b9ef-ed37967f74d6",
     "prev": "638df7e1-84d1-4fd4-a15c-c94b731d1bea",
     "regions": {
      "2e85c1b2-3c30-413e-9b0f-141281da3a2a": {
       "attrs": {
        "height": 0.8,
        "width": 0.8,
        "x": 0.1,
        "y": 0.1
       },
       "content": {
        "cell": "998dc7f5-ab6d-4fb8-866f-4fa96a06aaaa",
        "part": "whole"
       },
       "id": "2e85c1b2-3c30-413e-9b0f-141281da3a2a"
      }
     }
    },
    "9add3d79-8621-4167-8e1d-d4ae48fba71b": {
     "id": "9add3d79-8621-4167-8e1d-d4ae48fba71b",
     "prev": "7ea582c3-439d-4ec2-9f27-dea18bcacc31",
     "regions": {
      "d5f4537e-4d8c-4179-b14b-6c475f50b04e": {
       "attrs": {
        "height": 0.8,
        "width": 0.8,
        "x": 0.1,
        "y": 0.1
       },
       "content": {
        "cell": "9659b1c1-9aed-4d71-b830-4a60d408ad71",
        "part": "whole"
       },
       "id": "d5f4537e-4d8c-4179-b14b-6c475f50b04e"
      }
     }
    },
    "9bfe6214-4631-45b5-a05e-8923f178bb57": {
     "id": "9bfe6214-4631-45b5-a05e-8923f178bb57",
     "prev": "30509a9a-dbd8-4dbd-9fab-852a7266d894",
     "regions": {
      "aac53254-d149-49f2-8f92-670c6f2714bb": {
       "attrs": {
        "height": 0.8,
        "width": 0.8,
        "x": 0.1,
        "y": 0.1
       },
       "content": {
        "cell": "c71a78d7-9d0e-4825-9c84-9998f971317d",
        "part": "whole"
       },
       "id": "aac53254-d149-49f2-8f92-670c6f2714bb"
      }
     }
    },
    "b9dddf99-da24-46e1-81d4-8ac33b6fc3a3": {
     "id": "b9dddf99-da24-46e1-81d4-8ac33b6fc3a3",
     "prev": "1390653e-bdb6-444a-b611-39c60ffb77a1",
     "regions": {
      "0b31dbb4-f15b-4a16-9420-c5dc8ed4e871": {
       "attrs": {
        "height": 0.8,
        "width": 0.8,
        "x": 0.1,
        "y": 0.1
       },
       "content": {
        "cell": "d0569bb0-fad8-48b7-8d48-0066bfb90401",
        "part": "whole"
       },
       "id": "0b31dbb4-f15b-4a16-9420-c5dc8ed4e871"
      }
     }
    },
    "ba274d18-2760-4e55-ad47-2727b824fd00": {
     "id": "ba274d18-2760-4e55-ad47-2727b824fd00",
     "prev": "ed47079d-58cf-4b87-a9fa-a709d8a7c3c6",
     "regions": {
      "13000b51-bd66-4fb5-970b-20bfad440880": {
       "attrs": {
        "height": 0.8,
        "width": 0.8,
        "x": 0.1,
        "y": 0.1
       },
       "content": {
        "cell": "f6847886-4044-43a7-9edd-f18efddcb7a9",
        "part": "whole"
       },
       "id": "13000b51-bd66-4fb5-970b-20bfad440880"
      }
     }
    },
    "ed47079d-58cf-4b87-a9fa-a709d8a7c3c6": {
     "id": "ed47079d-58cf-4b87-a9fa-a709d8a7c3c6",
     "prev": "9add3d79-8621-4167-8e1d-d4ae48fba71b",
     "regions": {
      "a96aea94-1714-4020-83f9-dbc03e9fd55e": {
       "attrs": {
        "height": 0.8,
        "width": 0.8,
        "x": 0.1,
        "y": 0.1
       },
       "content": {
        "cell": "5a579720-fa62-4525-85e3-dd049cbd73be",
        "part": "whole"
       },
       "id": "a96aea94-1714-4020-83f9-dbc03e9fd55e"
      }
     }
    },
    "ee33e624-cd65-4b8c-b28b-c95623a56dbf": {
     "id": "ee33e624-cd65-4b8c-b28b-c95623a56dbf",
     "prev": "999513ad-b53e-4d84-b9ef-ed37967f74d6",
     "regions": {
      "325ae98d-0855-4d16-8408-6d12f47efa24": {
       "attrs": {
        "height": 0.8,
        "width": 0.8,
        "x": 0.1,
        "y": 0.1
       },
       "content": {
        "cell": "829150e0-712b-4739-92d6-37b9c3d789cb",
        "part": "whole"
       },
       "id": "325ae98d-0855-4d16-8408-6d12f47efa24"
      }
     }
    },
    "f0727a74-61a1-48c1-94a5-3e7490c29f0b": {
     "id": "f0727a74-61a1-48c1-94a5-3e7490c29f0b",
     "prev": "6d7ab34f-9d99-4c74-9877-27b25abc73f0",
     "regions": {
      "1666081e-448d-4f80-90f2-9f26f1568cdc": {
       "attrs": {
        "height": 0.8,
        "width": 0.8,
        "x": 0.1,
        "y": 0.1
       },
       "content": {
        "cell": "d99a804c-9444-418b-bc94-3c2f064e2844",
        "part": "whole"
       },
       "id": "1666081e-448d-4f80-90f2-9f26f1568cdc"
      }
     }
    },
    "f3f10f50-4cad-4149-b308-c66e6a493a72": {
     "id": "f3f10f50-4cad-4149-b308-c66e6a493a72",
     "prev": "42d1bd80-265e-4acf-bbc1-b202afddade3",
     "regions": {
      "4fc1185f-bdb8-46fc-99bd-b8d30defeca9": {
       "attrs": {
        "height": 0.8,
        "width": 0.8,
        "x": 0.1,
        "y": 0.1
       },
       "content": {
        "cell": "9b7597e9-aaa9-4d9f-ba0d-22f43d1a3900",
        "part": "whole"
       },
       "id": "4fc1185f-bdb8-46fc-99bd-b8d30defeca9"
      }
     }
    },
    "febe7de9-9362-4079-bfe9-2d4dfddf00e2": {
     "id": "febe7de9-9362-4079-bfe9-2d4dfddf00e2",
     "prev": "6bda9eb4-0724-4e53-9971-131d0cb5f9e2",
     "regions": {
      "42348103-1cd6-4bac-b346-33cd41aea444": {
       "attrs": {
        "height": 0.8,
        "width": 0.8,
        "x": 0.1,
        "y": 0.1
       },
       "content": {
        "cell": "35a148d4-f201-4441-bf5e-8a07f93dea84",
        "part": "whole"
       },
       "id": "42348103-1cd6-4bac-b346-33cd41aea444"
      }
     }
    }
   },
   "themes": {}
  }
 },
 "nbformat": 4,
 "nbformat_minor": 1
}
